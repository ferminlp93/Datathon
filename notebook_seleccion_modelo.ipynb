{
 "cells": [
  {
   "cell_type": "code",
   "execution_count": 1,
   "metadata": {},
   "outputs": [],
   "source": [
    "import numpy as np\n",
    "import pandas as pd\n",
    "from sklearn.model_selection import cross_val_score, GridSearchCV\n",
    "from sklearn.metrics import mean_absolute_error\n",
    "from sklearn.linear_model import Ridge, ElasticNet, Lasso, HuberRegressor\n",
    "from sklearn.ensemble import RandomForestRegressor,GradientBoostingRegressor,AdaBoostRegressor,ExtraTreesRegressor\n",
    "from sklearn.neighbors import KNeighborsRegressor\n",
    "import xgboost as xgb\n"
   ]
  },
  {
   "cell_type": "code",
   "execution_count": 2,
   "metadata": {},
   "outputs": [
    {
     "name": "stdout",
     "output_type": "stream",
     "text": [
      "Number of rows and columns of the training set:  (363834, 89)\n"
     ]
    }
   ],
   "source": [
    "traindata=pd.read_csv('train.csv')#reading the data\n",
    "traindata=traindata.drop('ID_Customer',axis=1)\n",
    "print('Number of rows and columns of the training set: ',traindata.shape)\n",
    "X_traindata=traindata.drop('Poder_Adquisitivo',axis=1)\n",
    "y_traindata=traindata['Poder_Adquisitivo']"
   ]
  },
  {
   "cell_type": "code",
   "execution_count": 3,
   "metadata": {},
   "outputs": [],
   "source": [
    "models=[\n",
    "    Ridge(),\n",
    "    Lasso(),\n",
    "    ElasticNet(),\n",
    "    KNeighborsRegressor(),\n",
    "    HuberRegressor(),\n",
    "    GradientBoostingRegressor(),\n",
    "    AdaBoostRegressor(),\n",
    "    RandomForestRegressor(),\n",
    "    ExtraTreesRegressor()\n",
    "    XGBRegressor()\n",
    "    \n",
    "]\n",
    "param_grid_list=[\n",
    "    {'alpha':[0.05,0.1,0.3,0.6,1,1.5,3,5,10,15,30,50,80]},\n",
    "    {'alpha':[0.0001, 0.0003, 0.0006, 0.001, 0.003, 0.006, 0.01, 0.03, 0.06, 0.1, 0.3, 0.6, 1.0]},\n",
    "    {'l1_ratio':[0.1, 0.3, 0.5, 0.7, 0.9, 1],'alpha':[0.0005, 0.001, 0.005, 0.01, 0.05, 0.1, 0.5, 1, 5]},\n",
    "    {'n_neighbors':[3,5,7,9]},\n",
    "    {'epsilon':[1.0,1.2,1.35,1.5,1.7,2.0], 'alpha':[0.00005,0.0001,0.0003,0.0006,0.0009,0.0012]},\n",
    "    {'learning_rate': [0.1, 0.05, 0.01], 'max_depth': [4, 6, 8, 10, 12], 'n_estimators': range(50, 200, 25)},\n",
    "    {'learning_rate': [0.5, 1, 3,5], 'n_estimators': range(50, 200, 25)},\n",
    "    {'max_features':['auto', 'sqrt', 40], 'max_depth': [4, 6, 8, 10, None], 'n_estimators': range(50, 300, 50)}\n",
    "    {'max_features':['auto', 'sqrt', 40], 'max_depth': [4, 6, 8, 10, None], 'n_estimators': range(50, 300, 50)},\n",
    "    {}\n",
    "]\n"
   ]
  },
  {
   "cell_type": "code",
   "execution_count": 4,
   "metadata": {
    "collapsed": true
   },
   "outputs": [],
   "source": [
    "#Input: Resultados de una comparacion de modelos\n",
    "#Output: los resultados en forma de tabla\n",
    "def get_results(model_names,errors,params=[]):\n",
    "    results={}\n",
    "    results['Regressor']=model_names\n",
    "    results['error']=errors\n",
    "    if len(params)>0:\n",
    "        results['params']=params\n",
    "    return pd.DataFrame(results).set_index('Regressor')"
   ]
  },
  {
   "cell_type": "code",
   "execution_count": 5,
   "metadata": {
    "collapsed": true
   },
   "outputs": [],
   "source": [
    "#Input: Un modelo\n",
    "#Output: El nombre del modelo\n",
    "def get_model_name(model):\n",
    "    return str(model.__class__).split('.')[-1].split(\"'\")[0]"
   ]
  },
  {
   "cell_type": "code",
   "execution_count": 6,
   "metadata": {
    "collapsed": true
   },
   "outputs": [],
   "source": [
    "#Input: Un modelo y un dataset\n",
    "#Output: Obtiene el error de cross validation del modelo sobre el dataset\n",
    "def mae_cv(model,X, y, verbose=0):\n",
    "    return (-cross_val_score(model, X, y, scoring = 'neg_mean_absolute_error', n_jobs=-1, cv=8,verbose=verbose)).mean()"
   ]
  },
  {
   "cell_type": "code",
   "execution_count": 7,
   "metadata": {
    "collapsed": true
   },
   "outputs": [],
   "source": [
    "#Input: Un modelo, un dataset y un conjunto de parametros\n",
    "#Output: Estima los parametros del modelo con cross validation y devuelve el error de la mejor cmbinacion (y la mejor combinacion)\n",
    "def mae_cv_param_grid(model,X, y,param_grid, verbose=0):\n",
    "    grid_model=GridSearchCV(model,param_grid,scoring='neg_mean_absolute_error',n_jobs=-1,cv=8,refit=False,verbose=verbose).fit(X,y)\n",
    "    return -grid_model.best_score_, grid_model.best_params_\n"
   ]
  },
  {
   "cell_type": "code",
   "execution_count": null,
   "metadata": {
    "collapsed": true
   },
   "outputs": [],
   "source": [
    "#Input: Un modelo, un dataset y (opcional) Un grid de parámetros\n",
    "#Output: Devuelve una tabla con la comparativa de los modelos en terminos de error sobre el dataset (y sus parametros optimos si estimate_params=True)\n",
    "def compare_models(models, X, y, param_grid_list=[], estimate_params=False, verbose=0):\n",
    "\n",
    "    model_names=[]\n",
    "    errors=[]\n",
    "    params=[]\n",
    "    \n",
    "    \n",
    "    for i in range(len(models)):\n",
    "            \n",
    "        model_name=get_model_name(models[i])\n",
    "        \n",
    "        if estimate_params:\n",
    "            score,param = mae_cv_param_grid(models[i],X, y,param_grid_list[i],verbose=verbose)\n",
    "            params.append(param)\n",
    "        \n",
    "        else:\n",
    "            score=mae_cv(models[i],X, y,verbose=verbose)\n",
    "        \n",
    "        if verbose>0:\n",
    "            print(model_name,': ',score)\n",
    "\n",
    "        model_names.append(model_name)\n",
    "        errors.append(score)\n",
    "        \n",
    "\n",
    "    return get_results(model_names,errors,params)\n",
    "    "
   ]
  },
  {
   "cell_type": "code",
   "execution_count": null,
   "metadata": {},
   "outputs": [
    {
     "name": "stdout",
     "output_type": "stream",
     "text": [
      "Fitting 8 folds for each of 54 candidates, totalling 432 fits\n"
     ]
    }
   ],
   "source": [
    "#Comparamos modelos (cada uno con su mejor combinacion de parametros)\n",
    "compare_models(models, X_traindata, y_traindata, param_grid_list, True, verbose=4)"
   ]
  },
  {
   "cell_type": "code",
   "execution_count": null,
   "metadata": {},
   "outputs": [],
   "source": [
    "#Comparamos modelos (cada uno con su combinacion de parametros por defecto)\n",
    "compare_models(models, X_traindata, y_traindata, verbose=4)"
   ]
  }
 ],
 "metadata": {
  "kernelspec": {
   "display_name": "Python 3",
   "language": "python",
   "name": "python3"
  },
  "language_info": {
   "codemirror_mode": {
    "name": "ipython",
    "version": 3
   },
   "file_extension": ".py",
   "mimetype": "text/x-python",
   "name": "python",
   "nbconvert_exporter": "python",
   "pygments_lexer": "ipython3",
   "version": "3.6.3"
  }
 },
 "nbformat": 4,
 "nbformat_minor": 2
}
