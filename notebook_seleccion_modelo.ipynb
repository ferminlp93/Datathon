{
 "cells": [
  {
   "cell_type": "code",
   "execution_count": null,
   "metadata": {
    "collapsed": true
   },
   "outputs": [],
   "source": [
    "import numpy as np\n",
    "import pandas as pd\n",
    "from sklearn.model_selection import cross_val_score, GridSearchCV, train_test_split \n",
    "from sklearn.metrics import mean_absolute_error\n",
    "from sklearn.linear_model import Ridge, ElasticNet, Lasso, HuberRegressor\n",
    "from sklearn.ensemble import RandomForestRegressor,GradientBoostingRegressor,AdaBoostRegressor,ExtraTreesRegressor\n",
    "from sklearn.neighbors import KNeighborsRegressor\n",
    "import xgboost as xgb\n"
   ]
  },
  {
   "cell_type": "code",
   "execution_count": null,
   "metadata": {
    "collapsed": true
   },
   "outputs": [],
   "source": [
    "#Input: Resultados de una comparacion de modelos\n",
    "#Output: los resultados en forma de tabla\n",
    "def get_models_table(models):\n",
    "    models_table={}\n",
    "    model_names=[get_model_name(model) for model in models]\n",
    "    models_table['Regressor']=model_names\n",
    "    models_table['model']=models\n",
    "    models_table['error']=np.repeat(np.nan,len(models))\n",
    "    models_table['params']=[{} for i in range(len(models))]\n",
    "\n",
    "    return pd.DataFrame(models_table).set_index('Regressor')\n",
    "\n",
    "\n",
    "#Input: Un modelo\n",
    "#Output: El nombre del modelo\n",
    "def get_model_name(model):\n",
    "    return str(model.__class__).split('.')[-1].split(\"'\")[0]\n",
    "\n",
    "\n",
    "#Input: Un modelo y un dataset separado en train y test\n",
    "#Output: Obtiene la prediccion del modelo entrenado con el train sobre el conjunto de test\n",
    "def fit_predict(model,X,y,X_test):\n",
    "    model.fit(X,y)\n",
    "    y_pred=model.predict(X_test)\n",
    "    y_pred[y_pred<y.min()]=y.min()\n",
    "    return y_pred\n",
    "\n",
    "\n",
    "#Input: Un modelo y un dataset\n",
    "#Output: Obtiene el error de cross validation del modelo sobre el dataset\n",
    "def mae_cv(model,X, y, verbose=0):\n",
    "    return (-cross_val_score(model, X, y, scoring = 'neg_mean_absolute_error', n_jobs=-1, cv=8,verbose=verbose)).mean()\n",
    "\n",
    "\n",
    "#Input: Un modelo, un dataset y un conjunto de parametros\n",
    "#Output: Estima los parametros del modelo con cross validation y devuelve el error de la mejor cmbinacion (y la mejor combinacion)\n",
    "def mae_cv_param_grid(model,X, y,param_grid, verbose=0):\n",
    "    grid_model=GridSearchCV(model,param_grid,scoring='neg_mean_absolute_error',n_jobs=-1,cv=8,refit=False,verbose=verbose).fit(X,y)\n",
    "    return -grid_model.best_score_, grid_model.best_params_\n",
    "\n",
    "\n",
    "#Input: Un modelo, un dataset y (opcional) Un grid de parámetros\n",
    "#Output: Devuelve una tabla con la comparativa de los modelos en terminos de error sobre el dataset (y sus parametros optimos si estimate_params=True)\n",
    "def compare_models(models_table, X, y, param_grid_list=[], estimate_params=False, verbose=0):\n",
    "    \n",
    "    errors=[]\n",
    "    params=[]\n",
    "    for i in range(models_table.shape[0]):\n",
    "        \n",
    "        model=models_table['model'].iloc[i] \n",
    "        if estimate_params:\n",
    "            score,param = mae_cv_param_grid(model,X, y,param_grid_list[i],verbose=verbose)\n",
    "            params.append(param)\n",
    "        \n",
    "        else:\n",
    "            score=mae_cv(models[i],X, y,verbose=verbose)\n",
    "        \n",
    "        if verbose>0:\n",
    "            print(models_table.index[i],': ',score)\n",
    "\n",
    "        errors.append(score)\n",
    "    \n",
    "    models_table['error']=errors\n",
    "    if estimate_params:\n",
    "        models_table['params']=params"
   ]
  },
  {
   "cell_type": "code",
   "execution_count": null,
   "metadata": {},
   "outputs": [],
   "source": [
    "traindata=pd.read_csv('train.csv')#reading the data\n",
    "testdata=pd.read_csv('test.csv')#reading the data\n",
    "\n",
    "traindata=traindata.drop('ID_Customer',axis=1)\n",
    "test_ids=testdata['ID_Customer'] #Nos lo guardamos para submision\n",
    "testdata=testdata.drop('ID_Customer',axis=1)\n",
    "\n",
    "print('Number of rows and columns of the training set: ',traindata.shape)\n",
    "print('Number of rows and columns of the test set: ',traindata.shape)\n",
    "\n",
    "X_traindata=traindata.drop('Poder_Adquisitivo',axis=1)\n",
    "y_traindata=traindata['Poder_Adquisitivo']"
   ]
  },
  {
   "cell_type": "code",
   "execution_count": null,
   "metadata": {
    "collapsed": true
   },
   "outputs": [],
   "source": [
    "models=[\n",
    "    Ridge(),\n",
    "    Lasso(),\n",
    "    ElasticNet(),\n",
    "    KNeighborsRegressor(),\n",
    "    HuberRegressor(),\n",
    "    GradientBoostingRegressor(),\n",
    "    AdaBoostRegressor(),\n",
    "    RandomForestRegressor(),\n",
    "    ExtraTreesRegressor()\n",
    "    XGBRegressor()   \n",
    "]\n",
    "\n",
    "\n",
    "models_table=get_models_table(models)\n",
    "\n",
    "    \n",
    "param_grid_list=[\n",
    "    {'alpha':[0.05,0.1,0.3,0.6,1,1.5,3,5,10,15,30,50,80]},\n",
    "    {'alpha':[0.0001, 0.0003, 0.0006, 0.001, 0.003, 0.006, 0.01, 0.03, 0.06, 0.1, 0.3, 0.6, 1.0]},\n",
    "    {'l1_ratio':[0.1, 0.3, 0.5, 0.7, 0.9, 1],'alpha':[0.0005, 0.001, 0.005, 0.01, 0.05, 0.1, 0.5, 1, 5]},\n",
    "    {'n_neighbors':[3,5,7,9]},\n",
    "    {'epsilon':[1.0,1.2,1.35,1.5,1.7,2.0], 'alpha':[0.00005,0.0001,0.0003,0.0006,0.0009,0.0012]},\n",
    "    {'learning_rate': [0.1, 0.05, 0.01], 'max_depth': [4, 6, 8, 10, 12], 'n_estimators': range(50, 200, 25)},\n",
    "    {'learning_rate': [0.5, 1, 3,5], 'n_estimators': range(50, 200, 25)},\n",
    "    {'max_features':['auto', 'sqrt', 40], 'max_depth': [4, 6, 8, 10, None], 'n_estimators': range(50, 300, 50)},\n",
    "    {'max_features':['auto', 'sqrt', 40], 'max_depth': [4, 6, 8, 10, None], 'n_estimators': range(50, 300, 50)},\n",
    "    {}\n",
    "]\n",
    "\n",
    "\n",
    "#separamos nuestro conjunto de train en train y validacion\n",
    "X_train, X_val, y_train, y_val = train_test_split(X_traindata, y_traindata, test_size=0.33)"
   ]
  },
  {
   "cell_type": "code",
   "execution_count": null,
   "metadata": {},
   "outputs": [],
   "source": [
    "#Comparamos modelos (cada uno con su mejor combinacion de parametros)\n",
    "compare_models(models_table, X_train, y_train, param_grid_list, True, verbose=4)\n",
    "\n",
    "#Alternativamente podemos Comparar modelos cada uno con su combinacion de parametros por defecto (mas rapido)\n",
    "#compare_models(models_table, X_traindata, y_traindata, verbose=4)\n",
    "models_table"
   ]
  },
  {
   "cell_type": "code",
   "execution_count": null,
   "metadata": {},
   "outputs": [],
   "source": [
    "#Escogemos un modelo y sus parametros en base a los resultados obtenidos arriba\n",
    "#Validamos el modelo obteniendo el error para el conjunto de test\n",
    "key=models_table['error'].argmin()\n",
    "\n",
    "best_model=models_table.loc[key,'model'].set_params(**models_table.loc[key,'params'])\n",
    "print('Validation mean absolute error: ',mean_absolute_error(y_val,fit_predict(best_model,X_train,y_train,X_val)))"
   ]
  },
  {
   "cell_type": "code",
   "execution_count": null,
   "metadata": {},
   "outputs": [],
   "source": [
    "best_model.fit(X_traindata, y_traindata)\n",
    "\n",
    "submision=pd.DataFrame()\n",
    "submision['ID_Customer']=test_ids\n",
    "submision['Poder_Adquisitivo']=fit_predict(best_model,X_traindata,y_traindata,testdata)\n",
    "print('The description of the submision:\\n',submision.describe())\n",
    "submision.to_csv('submision.csv',index=False)"
   ]
  }
 ],
 "metadata": {
  "kernelspec": {
   "display_name": "Python 3",
   "language": "python",
   "name": "python3"
  },
  "language_info": {
   "codemirror_mode": {
    "name": "ipython",
    "version": 3
   },
   "file_extension": ".py",
   "mimetype": "text/x-python",
   "name": "python",
   "nbconvert_exporter": "python",
   "pygments_lexer": "ipython3",
   "version": "3.6.3"
  }
 },
 "nbformat": 4,
 "nbformat_minor": 2
}
