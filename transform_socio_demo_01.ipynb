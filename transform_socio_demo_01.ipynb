{
 "cells": [
  {
   "cell_type": "code",
   "execution_count": 7,
   "metadata": {
    "collapsed": true
   },
   "outputs": [],
   "source": [
    "import numpy as np\n",
    "import pandas as pd"
   ]
  },
  {
   "cell_type": "code",
   "execution_count": 8,
   "metadata": {},
   "outputs": [
    {
     "name": "stderr",
     "output_type": "stream",
     "text": [
      "/home/alex/anaconda3/lib/python3.6/site-packages/IPython/core/interactiveshell.py:2698: DtypeWarning: Columns (83) have mixed types. Specify dtype option on import or set low_memory=False.\n",
      "  interactivity=interactivity, compiler=compiler, result=result)\n"
     ]
    }
   ],
   "source": [
    "traindata=pd.read_csv('Dataset_Salesforce_Predictive_Modelling_TRAIN.txt')#reading the data\n",
    "testdata=pd.read_csv('Dataset_Salesforce_Predictive_Modelling_TEST.txt')\n"
   ]
  },
  {
   "cell_type": "code",
   "execution_count": 9,
   "metadata": {},
   "outputs": [
    {
     "data": {
      "text/plain": [
       "09991     103393\n",
       "09992      27266\n",
       "09994      21070\n",
       "0X301      15867\n",
       "09993      15664\n",
       "09511      13291\n",
       "05220       8631\n",
       "06110       8172\n",
       "09512       7183\n",
       "06120       5219\n",
       "07121       4637\n",
       "04500       4380\n",
       "05120       3621\n",
       "08432       2922\n",
       "06300       2626\n",
       "09210       2617\n",
       "9992.0      2597\n",
       "9991.0      2502\n",
       "04111       2496\n",
       "04309       2423\n",
       "09602       2356\n",
       "02230       1979\n",
       "09700       1961\n",
       "02240       1820\n",
       "03613       1733\n",
       "05000       1669\n",
       "03611       1550\n",
       "9512.0      1485\n",
       "9994.0      1427\n",
       "02121       1365\n",
       "           ...  \n",
       "2462.0         1\n",
       "5823.0         1\n",
       "3831           1\n",
       "4446           1\n",
       "2415.0         1\n",
       "4445           1\n",
       "9812           1\n",
       "9542.0         1\n",
       "4423.0         1\n",
       "2630           1\n",
       "2640.0         1\n",
       "8132           1\n",
       "02464          1\n",
       "8141           1\n",
       "3403.0         1\n",
       "2434.0         1\n",
       "3523           1\n",
       "3531.0         1\n",
       "3533           1\n",
       "3539           1\n",
       "3621           1\n",
       "3622           1\n",
       "2653           1\n",
       "5893           1\n",
       "5892.0         1\n",
       "2154           1\n",
       "2156           1\n",
       "2157           1\n",
       "2158.0         1\n",
       "2325           1\n",
       "Name: Socio_Demo_01, Length: 921, dtype: int64"
      ]
     },
     "execution_count": 9,
     "metadata": {},
     "output_type": "execute_result"
    }
   ],
   "source": [
    "#CANTIDAD DE CADA VALOR. VEMOS QUE TENEMOS VALORES ENTEROS, CON x, QUE EMPIEZAN POR 0, REALES, ...\n",
    "val_count=traindata['Socio_Demo_01'].value_counts()\n",
    "val_count"
   ]
  },
  {
   "cell_type": "code",
   "execution_count": 10,
   "metadata": {
    "collapsed": true
   },
   "outputs": [],
   "source": [
    "#ESTO DE MOMENTO IGNORADLO. SE ME HA OLVIDADO COMENTARLO, EL VIERNES LO DIGO\n",
    "\n",
    "#grouped_by_socio=traindata.groupby(['Socio_Demo_01'])['Poder_Adquisitivo'].mean().sort_values()"
   ]
  },
  {
   "cell_type": "code",
   "execution_count": 11,
   "metadata": {
    "collapsed": true
   },
   "outputs": [],
   "source": [
    "#CONVERTIMOS TODOS LOS VALORES EN NUMEROS ENTEROS\n",
    "\n",
    "mapping={}\n",
    "for i in range(val_count.shape[0]):\n",
    "    mapping[val_count.index[i]]=i\n",
    "    \n",
    "traindata['Socio_Demo_01']=traindata['Socio_Demo_01'].map(mapping)\n",
    "testdata['Socio_Demo_01']=testdata['Socio_Demo_01'].map(mapping)\n"
   ]
  },
  {
   "cell_type": "code",
   "execution_count": 12,
   "metadata": {},
   "outputs": [],
   "source": [
    "#ESTO LO VAMOS A NECESITAR AHORA DESPUES PARA LOS VALORES FALTANTES\n",
    "\n",
    "#OBTENEMOS LA FRECUENCIA RELATIVA DE CADA VALOR\n",
    "val_count=traindata['Socio_Demo_01'].value_counts()/traindata.shape[0]\n",
    "#A LA QUE TIENE MAS FRECUENCIA LE AÑADIMOS LO QUE FALTA PARA LLEGAR A 1(EN LA DIVISION SE PIERDEN DECIMALES Y FALTABA 0.0001 O ASI)\n",
    "val_count[0]+=1-val_count.values.sum()"
   ]
  },
  {
   "cell_type": "code",
   "execution_count": 13,
   "metadata": {},
   "outputs": [
    {
     "data": {
      "text/plain": [
       "(0, 0)"
      ]
     },
     "execution_count": 13,
     "metadata": {},
     "output_type": "execute_result"
    }
   ],
   "source": [
    "#RELLENAMOS LOS VALORES FALTANTES DE FORMA ALEATORIA PONDERADA POR LAS FRECUENCIAS RELATIVAS\n",
    "#ES DECIR, CADA VALOR FALTANTE ES MAS PROBABLE QUE SE RELLENE CON LOS MAS FRECUENTES, ASI SE MANTIENE LA DISTRIBUCION DE PROBABILIDAD ORIGINAL INTACTA\n",
    "\n",
    "n_socio_nulls=traindata['Socio_Demo_01'].isnull().sum()\n",
    "traindata.loc[traindata['Socio_Demo_01'].isnull(),'Socio_Demo_01']=np.random.choice(val_count.index,n_socio_nulls,p=val_count.values)\n",
    "\n",
    "n_socio_nulls=testdata['Socio_Demo_01'].isnull().sum()\n",
    "testdata.loc[testdata['Socio_Demo_01'].isnull(),'Socio_Demo_01']=np.random.choice(val_count.index,n_socio_nulls,p=val_count.values)\n",
    "\n",
    "#YA NO FALTAN\n",
    "traindata['Socio_Demo_01'].isnull().sum(),testdata['Socio_Demo_01'].isnull().sum()"
   ]
  },
  {
   "cell_type": "code",
   "execution_count": 14,
   "metadata": {},
   "outputs": [
    {
     "data": {
      "text/plain": [
       "0      103565\n",
       "1       27310\n",
       "2       21112\n",
       "3       15893\n",
       "4       15698\n",
       "5       13311\n",
       "6        8651\n",
       "7        8191\n",
       "8        7200\n",
       "9        5227\n",
       "10       4641\n",
       "11       4383\n",
       "12       3627\n",
       "13       2927\n",
       "14       2634\n",
       "15       2619\n",
       "16       2604\n",
       "17       2512\n",
       "18       2500\n",
       "19       2427\n",
       "20       2361\n",
       "21       1982\n",
       "22       1964\n",
       "23       1821\n",
       "24       1736\n",
       "25       1671\n",
       "26       1554\n",
       "27       1488\n",
       "28       1429\n",
       "29       1366\n",
       "        ...  \n",
       "907         1\n",
       "908         1\n",
       "914         1\n",
       "909         1\n",
       "913         1\n",
       "910         1\n",
       "898         1\n",
       "896         1\n",
       "875         1\n",
       "895         1\n",
       "876         1\n",
       "877         1\n",
       "878         1\n",
       "879         1\n",
       "880         1\n",
       "912         1\n",
       "882         1\n",
       "883         1\n",
       "884         1\n",
       "885         1\n",
       "886         1\n",
       "887         1\n",
       "888         1\n",
       "889         1\n",
       "890         1\n",
       "891         1\n",
       "892         1\n",
       "893         1\n",
       "894         1\n",
       "899         1\n",
       "Name: Socio_Demo_01, Length: 921, dtype: int64"
      ]
     },
     "execution_count": 14,
     "metadata": {},
     "output_type": "execute_result"
    }
   ],
   "source": [
    "#ESTABA TODAVIA EN FLOAT, LO PASAMOS A INT\n",
    "traindata['Socio_Demo_01']=traindata['Socio_Demo_01'].astype('int')\n",
    "testdata['Socio_Demo_01']=testdata['Socio_Demo_01'].astype('int')\n",
    "\n",
    "traindata['Socio_Demo_01'].value_counts()"
   ]
  },
  {
   "cell_type": "code",
   "execution_count": 15,
   "metadata": {},
   "outputs": [],
   "source": [
    "#LA CORRELACION DE LA VARIABLE CON LA OBJETIVO (ESTO ES BASTANTE INUTIL DADO QUE ES UNA VARIABLE NOMINAL)\n",
    "#LO COMENTO\n",
    "#traindata[['Socio_Demo_01','Poder_Adquisitivo']].corr()"
   ]
  },
  {
   "cell_type": "code",
   "execution_count": 16,
   "metadata": {
    "collapsed": true
   },
   "outputs": [],
   "source": [
    "#GUARDO LOS DATOS LIMPIOS\n",
    "traindata.to_csv('train.csv',sep=',')\n",
    "testdata.to_csv('test.csv',sep=',')"
   ]
  },
  {
   "cell_type": "code",
   "execution_count": null,
   "metadata": {
    "collapsed": true
   },
   "outputs": [],
   "source": []
  }
 ],
 "metadata": {
  "kernelspec": {
   "display_name": "Python 3",
   "language": "python",
   "name": "python3"
  },
  "language_info": {
   "codemirror_mode": {
    "name": "ipython",
    "version": 3
   },
   "file_extension": ".py",
   "mimetype": "text/x-python",
   "name": "python",
   "nbconvert_exporter": "python",
   "pygments_lexer": "ipython3",
   "version": "3.6.3"
  }
 },
 "nbformat": 4,
 "nbformat_minor": 2
}
