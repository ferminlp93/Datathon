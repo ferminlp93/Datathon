{
 "cells": [
  {
   "cell_type": "code",
   "execution_count": 42,
   "metadata": {
    "collapsed": true
   },
   "outputs": [],
   "source": [
    "import numpy as np\n",
    "import pandas as pd"
   ]
  },
  {
   "cell_type": "code",
   "execution_count": 43,
   "metadata": {},
   "outputs": [
    {
     "name": "stderr",
     "output_type": "stream",
     "text": [
      "/home/alex/anaconda3/lib/python3.6/site-packages/IPython/core/interactiveshell.py:2698: DtypeWarning: Columns (83) have mixed types. Specify dtype option on import or set low_memory=False.\n",
      "  interactivity=interactivity, compiler=compiler, result=result)\n"
     ]
    }
   ],
   "source": [
    "traindata=pd.read_csv('Dataset_Salesforce_Predictive_Modelling_TRAIN.txt')#reading the data\n",
    "testdata=pd.read_csv('Dataset_Salesforce_Predictive_Modelling_TEST.txt')\n"
   ]
  },
  {
   "cell_type": "code",
   "execution_count": 44,
   "metadata": {},
   "outputs": [
    {
     "data": {
      "text/plain": [
       "09991     103393\n",
       "09992      27266\n",
       "09994      21070\n",
       "0X301      15867\n",
       "09993      15664\n",
       "09511      13291\n",
       "05220       8631\n",
       "06110       8172\n",
       "09512       7183\n",
       "06120       5219\n",
       "07121       4637\n",
       "04500       4380\n",
       "05120       3621\n",
       "08432       2922\n",
       "06300       2626\n",
       "09210       2617\n",
       "9992.0      2597\n",
       "9991.0      2502\n",
       "04111       2496\n",
       "04309       2423\n",
       "09602       2356\n",
       "02230       1979\n",
       "09700       1961\n",
       "02240       1820\n",
       "03613       1733\n",
       "05000       1669\n",
       "03611       1550\n",
       "9512.0      1485\n",
       "9994.0      1427\n",
       "02121       1365\n",
       "           ...  \n",
       "2434.0         1\n",
       "2640.0         1\n",
       "2437.0         1\n",
       "2630           1\n",
       "8141           1\n",
       "8132           1\n",
       "2462.0         1\n",
       "2463.0         1\n",
       "2311           1\n",
       "3134           1\n",
       "3143.0         1\n",
       "3152           1\n",
       "9812           1\n",
       "7622           1\n",
       "3539           1\n",
       "9542.0         1\n",
       "3533           1\n",
       "3531.0         1\n",
       "3523           1\n",
       "3403.0         1\n",
       "7708           1\n",
       "9223.0         1\n",
       "3323           1\n",
       "3317           1\n",
       "2154           1\n",
       "3209           1\n",
       "2156           1\n",
       "2157           1\n",
       "2158.0         1\n",
       "2933.0         1\n",
       "Name: Socio_Demo_01, Length: 921, dtype: int64"
      ]
     },
     "execution_count": 44,
     "metadata": {},
     "output_type": "execute_result"
    }
   ],
   "source": [
    "#CANTIDAD DE CADA VALOR. VEMOS QUE TENEMOS VALORES ENTEROS, CON x, QUE EMPIEZAN POR 0, REALES, ...\n",
    "traindata['Socio_Demo_01'].value_counts()"
   ]
  },
  {
   "cell_type": "code",
   "execution_count": 45,
   "metadata": {
    "collapsed": true
   },
   "outputs": [],
   "source": [
    "#Agrupa por columnas, saca la media de la columna target para cada grupo y ordena dichos grupos segun la media obtenida\n",
    "def order_columns_by_target_mean(X,cols,target): \n",
    "    return X.groupby(cols)[target].mean().sort_values()\n",
    "\n",
    "#Cantidad de valores faltantes de una o mas (o todas las) columnas\n",
    "def n_missings(X,cols=''):\n",
    "    if cols:\n",
    "        return X[cols].isnull().sum() #solo algunas columnas\n",
    "    else: \n",
    "        return X.isnull().sum() #todas las columnas\n",
    "\n",
    "    \n",
    "#GENERA LOS VALORES FALTANTES DE FORMA ALEATORIA PONDERADA POR LAS FRECUENCIAS RELATIVAS\n",
    "#ES DECIR, CADA VALOR FALTANTE ES MAS PROBABLE QUE SE RELLENE CON LOS MAS FRECUENTES, \n",
    "#ASI SE MANTIENE LA DISTRIBUCION DE PROBABILIDAD ORIGINAL INTACTA    \n",
    "def rellenar_faltantes_random_ponderado(X,col):\n",
    "    #OBTENEMOS LA FRECUENCIA RELATIVA DE CADA VALOR\n",
    "    val_count=X[col].value_counts()/X.shape[0]\n",
    "    \n",
    "    #A LA QUE TIENE MAS FRECUENCIA LE AÑADIMOS LO QUE FALTA PARA LLEGAR A 1(EN LA DIVISION SE PIERDEN DECIMALES Y FALTABA 0.0001 O ASI)\n",
    "    val_count.iloc[0]+=1-val_count.values.sum()\n",
    "    \n",
    "    n_col_nulls=X[col].isnull().sum()\n",
    "    return np.random.choice(val_count.index,n_col_nulls,p=val_count.values)"
   ]
  },
  {
   "cell_type": "code",
   "execution_count": 46,
   "metadata": {},
   "outputs": [],
   "source": [
    "#CONVERTIMOS TODOS LOS VALORES EN NUMEROS \n",
    "\n",
    "grouped_by_socio=order_columns_by_target_mean(traindata,['Socio_Demo_01'],'Poder_Adquisitivo')\n",
    "mapping={}\n",
    "for i, index in enumerate(grouped_by_socio.index):\n",
    "    mapping[index]=i\n",
    "    \n",
    "traindata['Socio_Demo_01']=traindata['Socio_Demo_01'].map(mapping)\n",
    "\n",
    "#Se ha comprobado previamente que testdata no tiene valores que no esten incluidos en traindata\n",
    "testdata['Socio_Demo_01']=testdata['Socio_Demo_01'].map(mapping)"
   ]
  },
  {
   "cell_type": "code",
   "execution_count": 47,
   "metadata": {},
   "outputs": [
    {
     "data": {
      "text/plain": [
       "(0, 0)"
      ]
     },
     "execution_count": 47,
     "metadata": {},
     "output_type": "execute_result"
    }
   ],
   "source": [
    "#RELLENAMOS LOS VALORES FALTANTES DE Socio_Demo_01\n",
    "\n",
    "traindata.loc[traindata['Socio_Demo_01'].isnull(),'Socio_Demo_01']=rellenar_faltantes_random_ponderado(traindata,'Socio_Demo_01')\n",
    "\n",
    "testdata.loc[testdata['Socio_Demo_01'].isnull(),'Socio_Demo_01']=rellenar_faltantes_random_ponderado(testdata,'Socio_Demo_01')\n",
    "\n",
    "#YA NO FALTAN\n",
    "n_missings(traindata,'Socio_Demo_01'), n_missings(testdata,'Socio_Demo_01')"
   ]
  },
  {
   "cell_type": "code",
   "execution_count": 48,
   "metadata": {},
   "outputs": [
    {
     "data": {
      "text/plain": [
       "405    103568\n",
       "61      27315\n",
       "151     21110\n",
       "294     15886\n",
       "161     15683\n",
       "179     13314\n",
       "387      8646\n",
       "467      8185\n",
       "136      7197\n",
       "366      5228\n",
       "287      4645\n",
       "557      4388\n",
       "187      3628\n",
       "593      2926\n",
       "416      2629\n",
       "140      2621\n",
       "22       2602\n",
       "200      2505\n",
       "597      2500\n",
       "578      2426\n",
       "189      2358\n",
       "833      1983\n",
       "328      1963\n",
       "802      1823\n",
       "584      1735\n",
       "282      1671\n",
       "709      1552\n",
       "74       1491\n",
       "80       1428\n",
       "731      1367\n",
       "        ...  \n",
       "915         1\n",
       "409         1\n",
       "427         1\n",
       "425         1\n",
       "795         1\n",
       "157         1\n",
       "794         1\n",
       "26          1\n",
       "293         1\n",
       "18          1\n",
       "386         1\n",
       "129         1\n",
       "878         1\n",
       "12          1\n",
       "117         1\n",
       "42          1\n",
       "887         1\n",
       "14          1\n",
       "888         1\n",
       "889         1\n",
       "378         1\n",
       "714         1\n",
       "891         1\n",
       "457         1\n",
       "381         1\n",
       "16          1\n",
       "382         1\n",
       "528         1\n",
       "896         1\n",
       "0           1\n",
       "Name: Socio_Demo_01, Length: 921, dtype: int64"
      ]
     },
     "execution_count": 48,
     "metadata": {},
     "output_type": "execute_result"
    }
   ],
   "source": [
    "#ESTABA TODAVIA EN FLOAT, LO PASAMOS A INT\n",
    "traindata['Socio_Demo_01']=traindata['Socio_Demo_01'].astype('int')\n",
    "testdata['Socio_Demo_01']=testdata['Socio_Demo_01'].astype('int')\n",
    "\n",
    "traindata['Socio_Demo_01'].value_counts()"
   ]
  },
  {
   "cell_type": "code",
   "execution_count": 49,
   "metadata": {},
   "outputs": [
    {
     "data": {
      "text/html": [
       "<div>\n",
       "<style>\n",
       "    .dataframe thead tr:only-child th {\n",
       "        text-align: right;\n",
       "    }\n",
       "\n",
       "    .dataframe thead th {\n",
       "        text-align: left;\n",
       "    }\n",
       "\n",
       "    .dataframe tbody tr th {\n",
       "        vertical-align: top;\n",
       "    }\n",
       "</style>\n",
       "<table border=\"1\" class=\"dataframe\">\n",
       "  <thead>\n",
       "    <tr style=\"text-align: right;\">\n",
       "      <th></th>\n",
       "      <th>Socio_Demo_01</th>\n",
       "      <th>Poder_Adquisitivo</th>\n",
       "    </tr>\n",
       "  </thead>\n",
       "  <tbody>\n",
       "    <tr>\n",
       "      <th>Socio_Demo_01</th>\n",
       "      <td>1.000000</td>\n",
       "      <td>0.196598</td>\n",
       "    </tr>\n",
       "    <tr>\n",
       "      <th>Poder_Adquisitivo</th>\n",
       "      <td>0.196598</td>\n",
       "      <td>1.000000</td>\n",
       "    </tr>\n",
       "  </tbody>\n",
       "</table>\n",
       "</div>"
      ],
      "text/plain": [
       "                   Socio_Demo_01  Poder_Adquisitivo\n",
       "Socio_Demo_01           1.000000           0.196598\n",
       "Poder_Adquisitivo       0.196598           1.000000"
      ]
     },
     "execution_count": 49,
     "metadata": {},
     "output_type": "execute_result"
    }
   ],
   "source": [
    "#LA CORRELACION DE LA VARIABLE CON LA OBJETIVO (ESTO ES BASTANTE INUTIL DADO QUE ES UNA VARIABLE NOMINAL)\n",
    "#LO COMENTO\n",
    "traindata[['Socio_Demo_01','Poder_Adquisitivo']].corr()"
   ]
  },
  {
   "cell_type": "code",
   "execution_count": 16,
   "metadata": {
    "collapsed": true
   },
   "outputs": [],
   "source": [
    "#GUARDO LOS DATOS LIMPIOS\n",
    "traindata.to_csv('train.csv',sep=',')\n",
    "testdata.to_csv('test.csv',sep=',')"
   ]
  },
  {
   "cell_type": "code",
   "execution_count": null,
   "metadata": {
    "collapsed": true
   },
   "outputs": [],
   "source": []
  }
 ],
 "metadata": {
  "kernelspec": {
   "display_name": "Python 3",
   "language": "python",
   "name": "python3"
  },
  "language_info": {
   "codemirror_mode": {
    "name": "ipython",
    "version": 3
   },
   "file_extension": ".py",
   "mimetype": "text/x-python",
   "name": "python",
   "nbconvert_exporter": "python",
   "pygments_lexer": "ipython3",
   "version": "3.6.3"
  }
 },
 "nbformat": 4,
 "nbformat_minor": 2
}
