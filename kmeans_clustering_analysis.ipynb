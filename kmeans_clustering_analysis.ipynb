{
 "cells": [
  {
   "cell_type": "code",
   "execution_count": 25,
   "metadata": {
    "collapsed": true
   },
   "outputs": [],
   "source": [
    "import numpy as np\n",
    "import pandas as pd\n",
    "from sklearn.cluster import MiniBatchKMeans\n",
    "from sklearn.metrics.pairwise import pairwise_distances"
   ]
  },
  {
   "cell_type": "code",
   "execution_count": 26,
   "metadata": {
    "collapsed": true
   },
   "outputs": [],
   "source": [
    "def intra_cluster_distance(X,centers,n_clusters):\n",
    "    result=np.zeros(n_clusters)\n",
    "    for i in range(n_clusters):\n",
    "        result[i]=np.sqrt(np.power(X[X['cluster']==i].drop(['cluster'],axis=1).as_matrix()-centers[i],2).sum(axis=1)).mean()\n",
    "    return result"
   ]
  },
  {
   "cell_type": "code",
   "execution_count": 27,
   "metadata": {},
   "outputs": [
    {
     "name": "stdout",
     "output_type": "stream",
     "text": [
      "Number of rows and columns of the training set:  (363834, 88)\n",
      "Number of rows and columns of the test set:  (156315, 87)\n"
     ]
    }
   ],
   "source": [
    "traindata=pd.read_csv('train.csv')#reading the data\n",
    "testdata=pd.read_csv('test.csv')#reading the data\n",
    "\n",
    "traindata=traindata.drop('ID_Customer',axis=1)\n",
    "test_ids=testdata['ID_Customer'] #Nos lo guardamos para submision\n",
    "testdata=testdata.drop('ID_Customer',axis=1)\n",
    "\n",
    "print('Number of rows and columns of the training set: ',traindata.shape)\n",
    "print('Number of rows and columns of the test set: ',testdata.shape)\n",
    "\n",
    "X_traindata=traindata.drop('Poder_Adquisitivo',axis=1)\n",
    "y_traindata=traindata['Poder_Adquisitivo']\n"
   ]
  },
  {
   "cell_type": "code",
   "execution_count": 28,
   "metadata": {
    "collapsed": true
   },
   "outputs": [],
   "source": [
    "n_clusters=5\n",
    "kmeans=MiniBatchKMeans(n_clusters)\n",
    "\n",
    "traindata['cluster']=kmeans.fit_predict(X_traindata)\n",
    "\n",
    "\n",
    "\n",
    "res_table=traindata.groupby(['cluster'])['Poder_Adquisitivo'].describe().sort_values('mean')\n",
    "res_table['new_cluster']=np.arange(n_clusters)\n",
    "\n",
    "map_dic=dict(zip(res_table.index,res_table['new_cluster']))\n",
    "\n",
    "\n",
    "\n",
    "centers=pd.DataFrame(kmeans.cluster_centers_)\n",
    "centers['new_cluster']=centers.index\n",
    "centers=centers.set_index(centers['new_cluster'].map(map_dic))\n",
    "centers=centers.drop(['new_cluster'],axis=1).sort_index().as_matrix()\n",
    "\n",
    "\n",
    "traindata['cluster']=traindata['cluster'].map(map_dic)\n",
    "X_traindata['cluster']=traindata['cluster']\n"
   ]
  },
  {
   "cell_type": "code",
   "execution_count": 29,
   "metadata": {},
   "outputs": [
    {
     "data": {
      "text/html": [
       "<div>\n",
       "<style>\n",
       "    .dataframe thead tr:only-child th {\n",
       "        text-align: right;\n",
       "    }\n",
       "\n",
       "    .dataframe thead th {\n",
       "        text-align: left;\n",
       "    }\n",
       "\n",
       "    .dataframe tbody tr th {\n",
       "        vertical-align: top;\n",
       "    }\n",
       "</style>\n",
       "<table border=\"1\" class=\"dataframe\">\n",
       "  <thead>\n",
       "    <tr style=\"text-align: right;\">\n",
       "      <th></th>\n",
       "      <th>count</th>\n",
       "      <th>mean</th>\n",
       "      <th>std</th>\n",
       "      <th>min</th>\n",
       "      <th>25%</th>\n",
       "      <th>50%</th>\n",
       "      <th>75%</th>\n",
       "      <th>max</th>\n",
       "      <th>new_cluster</th>\n",
       "    </tr>\n",
       "    <tr>\n",
       "      <th>cluster</th>\n",
       "      <th></th>\n",
       "      <th></th>\n",
       "      <th></th>\n",
       "      <th></th>\n",
       "      <th></th>\n",
       "      <th></th>\n",
       "      <th></th>\n",
       "      <th></th>\n",
       "      <th></th>\n",
       "    </tr>\n",
       "  </thead>\n",
       "  <tbody>\n",
       "    <tr>\n",
       "      <th>0</th>\n",
       "      <td>293910.0</td>\n",
       "      <td>13631.555719</td>\n",
       "      <td>16170.271169</td>\n",
       "      <td>3600.960000</td>\n",
       "      <td>8670.922500</td>\n",
       "      <td>11570.185000</td>\n",
       "      <td>15919.647500</td>\n",
       "      <td>5040000.00</td>\n",
       "      <td>0</td>\n",
       "    </tr>\n",
       "    <tr>\n",
       "      <th>4</th>\n",
       "      <td>24896.0</td>\n",
       "      <td>22472.841889</td>\n",
       "      <td>25456.408945</td>\n",
       "      <td>3634.080000</td>\n",
       "      <td>13913.524625</td>\n",
       "      <td>19091.585000</td>\n",
       "      <td>26107.535000</td>\n",
       "      <td>1636127.59</td>\n",
       "      <td>1</td>\n",
       "    </tr>\n",
       "    <tr>\n",
       "      <th>3</th>\n",
       "      <td>34732.0</td>\n",
       "      <td>26384.779780</td>\n",
       "      <td>33586.334390</td>\n",
       "      <td>5418.104083</td>\n",
       "      <td>16965.787729</td>\n",
       "      <td>21598.006542</td>\n",
       "      <td>29190.903833</td>\n",
       "      <td>2967257.81</td>\n",
       "      <td>2</td>\n",
       "    </tr>\n",
       "    <tr>\n",
       "      <th>1</th>\n",
       "      <td>3454.0</td>\n",
       "      <td>35633.262800</td>\n",
       "      <td>65202.529511</td>\n",
       "      <td>3748.500000</td>\n",
       "      <td>18878.622500</td>\n",
       "      <td>26439.570000</td>\n",
       "      <td>36325.455000</td>\n",
       "      <td>2005965.28</td>\n",
       "      <td>3</td>\n",
       "    </tr>\n",
       "    <tr>\n",
       "      <th>2</th>\n",
       "      <td>6842.0</td>\n",
       "      <td>53969.568397</td>\n",
       "      <td>86873.836158</td>\n",
       "      <td>12509.395333</td>\n",
       "      <td>29847.498833</td>\n",
       "      <td>38215.169500</td>\n",
       "      <td>51488.754313</td>\n",
       "      <td>2110209.80</td>\n",
       "      <td>4</td>\n",
       "    </tr>\n",
       "  </tbody>\n",
       "</table>\n",
       "</div>"
      ],
      "text/plain": [
       "            count          mean           std           min           25%  \\\n",
       "cluster                                                                     \n",
       "0        293910.0  13631.555719  16170.271169   3600.960000   8670.922500   \n",
       "4         24896.0  22472.841889  25456.408945   3634.080000  13913.524625   \n",
       "3         34732.0  26384.779780  33586.334390   5418.104083  16965.787729   \n",
       "1          3454.0  35633.262800  65202.529511   3748.500000  18878.622500   \n",
       "2          6842.0  53969.568397  86873.836158  12509.395333  29847.498833   \n",
       "\n",
       "                  50%           75%         max  new_cluster  \n",
       "cluster                                                       \n",
       "0        11570.185000  15919.647500  5040000.00            0  \n",
       "4        19091.585000  26107.535000  1636127.59            1  \n",
       "3        21598.006542  29190.903833  2967257.81            2  \n",
       "1        26439.570000  36325.455000  2005965.28            3  \n",
       "2        38215.169500  51488.754313  2110209.80            4  "
      ]
     },
     "execution_count": 29,
     "metadata": {},
     "output_type": "execute_result"
    }
   ],
   "source": [
    "res_table"
   ]
  },
  {
   "cell_type": "code",
   "execution_count": 30,
   "metadata": {},
   "outputs": [
    {
     "data": {
      "text/html": [
       "<div>\n",
       "<style>\n",
       "    .dataframe thead tr:only-child th {\n",
       "        text-align: right;\n",
       "    }\n",
       "\n",
       "    .dataframe thead th {\n",
       "        text-align: left;\n",
       "    }\n",
       "\n",
       "    .dataframe tbody tr th {\n",
       "        vertical-align: top;\n",
       "    }\n",
       "</style>\n",
       "<table border=\"1\" class=\"dataframe\">\n",
       "  <thead>\n",
       "    <tr style=\"text-align: right;\">\n",
       "      <th></th>\n",
       "      <th>0</th>\n",
       "      <th>1</th>\n",
       "      <th>2</th>\n",
       "      <th>3</th>\n",
       "      <th>4</th>\n",
       "      <th>intra_cluster_distance</th>\n",
       "    </tr>\n",
       "  </thead>\n",
       "  <tbody>\n",
       "    <tr>\n",
       "      <th>0</th>\n",
       "      <td>0.000000</td>\n",
       "      <td>129690.538840</td>\n",
       "      <td>84722.929589</td>\n",
       "      <td>294508.757103</td>\n",
       "      <td>249153.711966</td>\n",
       "      <td>13303.739658</td>\n",
       "    </tr>\n",
       "    <tr>\n",
       "      <th>1</th>\n",
       "      <td>129690.538840</td>\n",
       "      <td>0.000000</td>\n",
       "      <td>153670.395267</td>\n",
       "      <td>165640.488395</td>\n",
       "      <td>279067.583832</td>\n",
       "      <td>45587.911655</td>\n",
       "    </tr>\n",
       "    <tr>\n",
       "      <th>2</th>\n",
       "      <td>84722.929589</td>\n",
       "      <td>153670.395267</td>\n",
       "      <td>0.000000</td>\n",
       "      <td>306238.316516</td>\n",
       "      <td>169071.761558</td>\n",
       "      <td>54038.099250</td>\n",
       "    </tr>\n",
       "    <tr>\n",
       "      <th>3</th>\n",
       "      <td>294508.757103</td>\n",
       "      <td>165640.488395</td>\n",
       "      <td>306238.316516</td>\n",
       "      <td>0.000000</td>\n",
       "      <td>385021.519838</td>\n",
       "      <td>90421.292961</td>\n",
       "    </tr>\n",
       "    <tr>\n",
       "      <th>4</th>\n",
       "      <td>249153.711966</td>\n",
       "      <td>279067.583832</td>\n",
       "      <td>169071.761558</td>\n",
       "      <td>385021.519838</td>\n",
       "      <td>0.000000</td>\n",
       "      <td>184093.048909</td>\n",
       "    </tr>\n",
       "  </tbody>\n",
       "</table>\n",
       "</div>"
      ],
      "text/plain": [
       "               0              1              2              3              4  \\\n",
       "0       0.000000  129690.538840   84722.929589  294508.757103  249153.711966   \n",
       "1  129690.538840       0.000000  153670.395267  165640.488395  279067.583832   \n",
       "2   84722.929589  153670.395267       0.000000  306238.316516  169071.761558   \n",
       "3  294508.757103  165640.488395  306238.316516       0.000000  385021.519838   \n",
       "4  249153.711966  279067.583832  169071.761558  385021.519838       0.000000   \n",
       "\n",
       "   intra_cluster_distance  \n",
       "0            13303.739658  \n",
       "1            45587.911655  \n",
       "2            54038.099250  \n",
       "3            90421.292961  \n",
       "4           184093.048909  "
      ]
     },
     "execution_count": 30,
     "metadata": {},
     "output_type": "execute_result"
    }
   ],
   "source": [
    "df=pd.DataFrame(pairwise_distances(centers))\n",
    "df['intra_cluster_distance']=intra_cluster_distance(X_traindata,centers,n_clusters)\n",
    "df"
   ]
  },
  {
   "cell_type": "code",
   "execution_count": 31,
   "metadata": {},
   "outputs": [
    {
     "data": {
      "text/html": [
       "<div>\n",
       "<style>\n",
       "    .dataframe thead tr:only-child th {\n",
       "        text-align: right;\n",
       "    }\n",
       "\n",
       "    .dataframe thead th {\n",
       "        text-align: left;\n",
       "    }\n",
       "\n",
       "    .dataframe tbody tr th {\n",
       "        vertical-align: top;\n",
       "    }\n",
       "</style>\n",
       "<table border=\"1\" class=\"dataframe\">\n",
       "  <thead>\n",
       "    <tr style=\"text-align: right;\">\n",
       "      <th></th>\n",
       "      <th>Poder_Adquisitivo</th>\n",
       "      <th>cluster</th>\n",
       "    </tr>\n",
       "  </thead>\n",
       "  <tbody>\n",
       "    <tr>\n",
       "      <th>Poder_Adquisitivo</th>\n",
       "      <td>1.000000</td>\n",
       "      <td>0.278039</td>\n",
       "    </tr>\n",
       "    <tr>\n",
       "      <th>cluster</th>\n",
       "      <td>0.278039</td>\n",
       "      <td>1.000000</td>\n",
       "    </tr>\n",
       "  </tbody>\n",
       "</table>\n",
       "</div>"
      ],
      "text/plain": [
       "                   Poder_Adquisitivo   cluster\n",
       "Poder_Adquisitivo           1.000000  0.278039\n",
       "cluster                     0.278039  1.000000"
      ]
     },
     "execution_count": 31,
     "metadata": {},
     "output_type": "execute_result"
    }
   ],
   "source": [
    "traindata[['Poder_Adquisitivo','cluster']].corr()"
   ]
  },
  {
   "cell_type": "code",
   "execution_count": 32,
   "metadata": {
    "collapsed": true
   },
   "outputs": [],
   "source": [
    "traindata.to_csv('train_cluster.csv',sep=',',index=False)\n",
    "#testdata.to_csv('test.csv',sep=',')"
   ]
  },
  {
   "cell_type": "code",
   "execution_count": null,
   "metadata": {},
   "outputs": [],
   "source": []
  },
  {
   "cell_type": "code",
   "execution_count": null,
   "metadata": {
    "collapsed": true
   },
   "outputs": [],
   "source": []
  }
 ],
 "metadata": {
  "kernelspec": {
   "display_name": "Python 3",
   "language": "python",
   "name": "python3"
  },
  "language_info": {
   "codemirror_mode": {
    "name": "ipython",
    "version": 3
   },
   "file_extension": ".py",
   "mimetype": "text/x-python",
   "name": "python",
   "nbconvert_exporter": "python",
   "pygments_lexer": "ipython3",
   "version": "3.6.3"
  }
 },
 "nbformat": 4,
 "nbformat_minor": 2
}
