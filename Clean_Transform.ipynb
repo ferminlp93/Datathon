{
 "cells": [
  {
   "cell_type": "code",
   "execution_count": 1,
   "metadata": {
    "collapsed": true
   },
   "outputs": [],
   "source": [
    "import pandas as pd\n",
    "import numpy as np\n",
    "from Utilidades import *\n",
    "from Utilidades_clean_transform import *"
   ]
  },
  {
   "cell_type": "code",
   "execution_count": 2,
   "metadata": {
    "collapsed": true
   },
   "outputs": [],
   "source": [
    "def main():\n",
    "    #CARGAMOS LOS DATOS\n",
    "    traindata,testdata=cargar_originales('Dataset_Salesforce_Predictive_Modelling_TRAIN.txt', \\\n",
    "                                        'Dataset_Salesforce_Predictive_Modelling_TEST.txt')\n",
    "    \n",
    "    #CREAMOS VARIABLES PARA ENRIQUECER EL MODELO\n",
    "    crear_variables(traindata,testdata)\n",
    "\n",
    "    \n",
    "    #Concat datasets para transformaciones\n",
    "    data,numeric_cols,nominal_cols=concat_data_trans(traindata,testdata)\n",
    "    \n",
    "\n",
    "    #transformacion sociodemo\n",
    "    data=socio_demo(data)\n",
    "    \n",
    "    #Creacion Cluster\n",
    "    data=create_cluster(data)\n",
    "    Train_visu=data\n",
    "    #get dummy\n",
    "    data=cat_to_dummy(data)\n",
    "    \n",
    "\n",
    "    #separarlos en train y test\n",
    "    traindata,testdata = norm_and_sep(data,traindata,testdata,numeric_cols)\n",
    "    traindata_1,testdata_2 = norm_and_sep(Train_visu,traindata,testdata,numeric_cols)\n",
    "    \n",
    "    #Preparar distintos datasets para pruebas\n",
    "    traindata_Sin_totales,Test_data_Sin_totales,traindata_Con_totales,\\\n",
    "    Test_data_Con_totales,traindata_Con_totales_y_cuadrados,Test_data_Con_totales_y_cuadrados,\\\n",
    "    Train_sin_out,Train_sin_out_ext=\\\n",
    "    prep_dist_datasets(traindata,testdata)\n",
    "    \n",
    "    #Comprobar si existen carpetas, y si no crearlas\n",
    "    create_folders()\n",
    "        \n",
    "    #Guardamos los datasets\n",
    "    save_datasets(traindata,testdata,traindata_Sin_totales,Test_data_Sin_totales,traindata_Con_totales,\\\n",
    "                 Test_data_Con_totales,traindata_Con_totales_y_cuadrados,Test_data_Con_totales_y_cuadrados,\\\n",
    "                 Train_sin_out,Train_sin_out_ext,traindata_1,testdata_2)\n",
    "    \n",
    "   "
   ]
  },
  {
   "cell_type": "code",
   "execution_count": 3,
   "metadata": {
    "scrolled": true
   },
   "outputs": [
    {
     "name": "stdout",
     "output_type": "stream",
     "text": [
      "Cargando los datasets originales...\n"
     ]
    },
    {
     "name": "stderr",
     "output_type": "stream",
     "text": [
      "/home/alex/anaconda3/lib/python3.6/site-packages/IPython/core/interactiveshell.py:2862: DtypeWarning: Columns (83) have mixed types. Specify dtype option on import or set low_memory=False.\n",
      "  exec(code_obj, self.user_global_ns, self.user_ns)\n"
     ]
    },
    {
     "name": "stdout",
     "output_type": "stream",
     "text": [
      "Creando Variables para enriquecer el modelo...\n",
      "Concatenando los datasets para el procesado...\n",
      "Tratando la columna Socio_Demo_01...\n",
      "Creando columna de cluster...\n",
      "Pasando categoricas a dummies...\n",
      "Separando los datasets...\n",
      "Separando los datasets...\n",
      "Preparando los datasets para el guardado...\n",
      "Creacion de carpetas...\n",
      "saving files...\n",
      "Total\n",
      "Dataset de Visualizacion\n",
      "Total sin outlayers\n",
      "Total sin outlayers extremos\n",
      "Sin_Totales\n",
      "Con_Totales\n",
      "Con_Totales_y_Cuadrados\n",
      "Saved\n"
     ]
    }
   ],
   "source": [
    "if __name__ == \"__main__\":\n",
    "    main()\n",
    "    \n",
    "    "
   ]
  },
  {
   "cell_type": "code",
   "execution_count": null,
   "metadata": {
    "collapsed": true
   },
   "outputs": [],
   "source": []
  }
 ],
 "metadata": {
  "kernelspec": {
   "display_name": "Python 3",
   "language": "python",
   "name": "python3"
  },
  "language_info": {
   "codemirror_mode": {
    "name": "ipython",
    "version": 3
   },
   "file_extension": ".py",
   "mimetype": "text/x-python",
   "name": "python",
   "nbconvert_exporter": "python",
   "pygments_lexer": "ipython3",
   "version": "3.6.3"
  }
 },
 "nbformat": 4,
 "nbformat_minor": 2
}
