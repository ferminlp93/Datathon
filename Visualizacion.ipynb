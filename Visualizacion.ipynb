{
 "cells": [
  {
   "cell_type": "code",
   "execution_count": 1,
   "metadata": {
    "collapsed": true
   },
   "outputs": [],
   "source": [
    "############################\n",
    "# IMPORTACION DE LIBRERIAS #\n",
    "############################\n",
    "\n",
    "import numpy as np\n",
    "import pandas as pd\n",
    "import warnings\n",
    "import matplotlib.pyplot as plt \n",
    "import seaborn as sns\n",
    "\n",
    "%matplotlib inline\n",
    "\n",
    "#warnings.filterwarnings('ignore')\n",
    "\n",
    "from sklearn.preprocessing import StandardScaler\n",
    "from sklearn.kernel_ridge import KernelRidge\n",
    "from sklearn.metrics import mean_absolute_error, make_scorer\n",
    "from sklearn.linear_model import RidgeCV, LassoCV, Ridge, Lasso, ElasticNetCV, ElasticNet, HuberRegressor\n",
    "from sklearn.model_selection import cross_val_score, train_test_split, GridSearchCV\n",
    "from sklearn.ensemble import RandomForestRegressor\n",
    "from sklearn.neighbors import KNeighborsRegressor\n"
   ]
  },
  {
   "cell_type": "code",
   "execution_count": 2,
   "metadata": {},
   "outputs": [
    {
     "name": "stderr",
     "output_type": "stream",
     "text": [
      "/home/rafa/anaconda3/lib/python3.6/site-packages/IPython/core/interactiveshell.py:2698: DtypeWarning: Columns (83) have mixed types. Specify dtype option on import or set low_memory=False.\n",
      "  interactivity=interactivity, compiler=compiler, result=result)\n"
     ]
    },
    {
     "name": "stdout",
     "output_type": "stream",
     "text": [
      "Number of rows and columns of the training set:  (363834, 89)\n",
      "Number of rows and columns of the test set:  (156315, 88)\n"
     ]
    }
   ],
   "source": [
    "##################\n",
    "# CARGA DE DATOS #\n",
    "##################\n",
    "\n",
    "traindata=pd.read_csv('Dataset_Salesforce_Predictive_Modelling_TRAIN.txt')#reading the data\n",
    "testdata=pd.read_csv('Dataset_Salesforce_Predictive_Modelling_TEST.txt')\n",
    "print('Number of rows and columns of the training set: ',traindata.shape)\n",
    "print('Number of rows and columns of the test set: ',testdata.shape)"
   ]
  },
  {
   "cell_type": "code",
   "execution_count": 3,
   "metadata": {},
   "outputs": [
    {
     "name": "stdout",
     "output_type": "stream",
     "text": [
      "87 numeric columns:  Index(['Imp_Cons_01', 'Imp_Cons_02', 'Imp_Cons_03', 'Imp_Cons_04',\n",
      "       'Imp_Cons_05', 'Imp_Cons_06', 'Imp_Cons_07', 'Imp_Cons_08',\n",
      "       'Imp_Cons_09', 'Imp_Cons_10', 'Imp_Cons_11', 'Imp_Cons_12',\n",
      "       'Imp_Cons_13', 'Imp_Cons_14', 'Imp_Cons_15', 'Imp_Cons_16',\n",
      "       'Imp_Cons_17', 'Imp_Sal_01', 'Imp_Sal_02', 'Imp_Sal_03', 'Imp_Sal_04',\n",
      "       'Imp_Sal_05', 'Imp_Sal_06', 'Imp_Sal_07', 'Imp_Sal_08', 'Imp_Sal_09',\n",
      "       'Imp_Sal_10', 'Imp_Sal_11', 'Imp_Sal_12', 'Imp_Sal_13', 'Imp_Sal_14',\n",
      "       'Imp_Sal_15', 'Imp_Sal_16', 'Imp_Sal_17', 'Imp_Sal_18', 'Imp_Sal_19',\n",
      "       'Imp_Sal_20', 'Imp_Sal_21', 'Ind_Prod_01', 'Ind_Prod_02', 'Ind_Prod_03',\n",
      "       'Ind_Prod_04', 'Ind_Prod_05', 'Ind_Prod_06', 'Ind_Prod_07',\n",
      "       'Ind_Prod_08', 'Ind_Prod_09', 'Ind_Prod_10', 'Ind_Prod_11',\n",
      "       'Ind_Prod_12', 'Ind_Prod_13', 'Ind_Prod_14', 'Ind_Prod_15',\n",
      "       'Ind_Prod_16', 'Ind_Prod_17', 'Ind_Prod_18', 'Ind_Prod_19',\n",
      "       'Ind_Prod_20', 'Ind_Prod_21', 'Ind_Prod_22', 'Ind_Prod_23',\n",
      "       'Ind_Prod_24', 'Num_Oper_01', 'Num_Oper_02', 'Num_Oper_03',\n",
      "       'Num_Oper_04', 'Num_Oper_05', 'Num_Oper_06', 'Num_Oper_07',\n",
      "       'Num_Oper_08', 'Num_Oper_09', 'Num_Oper_10', 'Num_Oper_11',\n",
      "       'Num_Oper_12', 'Num_Oper_13', 'Num_Oper_14', 'Num_Oper_15',\n",
      "       'Num_Oper_16', 'Num_Oper_17', 'Num_Oper_18', 'Num_Oper_19',\n",
      "       'Num_Oper_20', 'Socio_Demo_02', 'Socio_Demo_03', 'Socio_Demo_04',\n",
      "       'Socio_Demo_05', 'Poder_Adquisitivo'],\n",
      "      dtype='object')\n",
      "2 nominal columns:  Index(['ID_Customer', 'Socio_Demo_01'], dtype='object')\n"
     ]
    }
   ],
   "source": [
    "#####################################\n",
    "# SEPARACION DE VARIABLES POR TIPOS #\n",
    "#####################################\n",
    "\n",
    "numeric_cols=traindata.select_dtypes(include=[np.number]).columns#select only numerical\n",
    "nominal_cols=traindata.select_dtypes(exclude=[np.number]).columns#select only non numerical\n",
    "print(numeric_cols.shape[0],'numeric columns: ',numeric_cols)\n",
    "print(nominal_cols.shape[0],'nominal columns: ',nominal_cols)"
   ]
  },
  {
   "cell_type": "code",
   "execution_count": 8,
   "metadata": {},
   "outputs": [],
   "source": [
    "###############################\n",
    "# FUNCIONES PARA PREPROCESADO #\n",
    "###############################\n",
    "\n",
    "def iqr_calculate(column):\n",
    "    description = column.describe()\n",
    "    iqr = description['75%']-description['25%']\n",
    "    return iqr\n",
    "\n",
    "def outliers_limits(column):\n",
    "    description = column.describe()\n",
    "    iqr = iqr_calculate(column)\n",
    "    outliers_limits = [description['25%']-1.5*iqr,description['75%']+1.5*iqr]\n",
    "    return outliers_limits\n",
    "\n",
    "def extreme_outliers_limits(column):\n",
    "    description = column.describe()\n",
    "    iqr = iqr_calculate(column)\n",
    "    outliers_limits = [description['25%']-3*iqr,description['75%']+3*iqr]\n",
    "    return outliers_limits\n",
    "\n",
    "def mostrar_histograma(column, bins, label = None):\n",
    "    fig, ax = plt.subplots()\n",
    "    ax.hist(column, bins)\n",
    "    ax.set_xlabel(label)\n",
    "    plt.show()\n",
    "    \n",
    "def delete_extreme_outliers(data, column):\n",
    "    limits = extreme_outliers_limits(column)\n",
    "    data_without_extreme_outliers = data[column<=limits[1]]\n",
    "    data_without_extreme_outliers = data_without_extreme_outliers[column>=limits[0]]\n",
    "    return data_without_extreme_outliers\n",
    "    \n",
    "\n",
    "\n"
   ]
  },
  {
   "cell_type": "code",
   "execution_count": 10,
   "metadata": {},
   "outputs": [
    {
     "name": "stdout",
     "output_type": "stream",
     "text": [
      "Rango intercuartilico de variable objetivo: 9647.60439575\n",
      "Limites (inferior y superior) de los valores atipicos: [-5170.4740936249964, 33419.943489375]\n",
      "Limites (inferior y superior) de los valores extremadamente atipicos: [-19641.880687249992, 47891.350082999998]\n"
     ]
    },
    {
     "data": {
      "image/png": "[encoded data removed]",
      "text/plain": [
       "<matplotlib.figure.Figure at 0x7f7359301668>"
      ]
     },
     "metadata": {},
     "output_type": "display_data"
    },
    {
     "name": "stderr",
     "output_type": "stream",
     "text": [
      "/home/rafa/anaconda3/lib/python3.6/site-packages/ipykernel_launcher.py:31: UserWarning: Boolean Series key will be reindexed to match DataFrame index.\n"
     ]
    },
    {
     "data": {
      "image/png": "[encoded data removed]",
      "text/plain": [
       "<matplotlib.figure.Figure at 0x7f735929b048>"
      ]
     },
     "metadata": {},
     "output_type": "display_data"
    }
   ],
   "source": [
    "print ('Rango intercuartilico de variable objetivo:', iqr_calculate(traindata['Poder_Adquisitivo']))\n",
    "print ('Limites (inferior y superior) de los valores atipicos:', outliers_limits(traindata['Poder_Adquisitivo']))\n",
    "print ('Limites (inferior y superior) de los valores extremadamente atipicos:', extreme_outliers_limits(traindata['Poder_Adquisitivo']))\n",
    "\n",
    "mostrar_histograma(traindata['Poder_Adquisitivo'], 100, 'Poder_Adquisitivo')\n",
    "traindata_without_extreme_outliers = delete_extreme_outliers(traindata, traindata['Poder_Adquisitivo'])\n",
    "mostrar_histograma(traindata_without_extreme_outliers['Poder_Adquisitivo'], 50)"
   ]
  },
  {
   "cell_type": "code",
   "execution_count": null,
   "metadata": {
    "collapsed": true
   },
   "outputs": [],
   "source": []
  }
 ],
 "metadata": {
  "kernelspec": {
   "display_name": "Python 3",
   "language": "python",
   "name": "python3"
  },
  "language_info": {
   "codemirror_mode": {
    "name": "ipython",
    "version": 3
   },
   "file_extension": ".py",
   "mimetype": "text/x-python",
   "name": "python",
   "nbconvert_exporter": "python",
   "pygments_lexer": "ipython3",
   "version": "3.6.3"
  }
 },
 "nbformat": 4,
 "nbformat_minor": 2
}
