{
 "cells": [
  {
   "cell_type": "code",
   "execution_count": 1,
   "metadata": {
    "collapsed": true
   },
   "outputs": [],
   "source": [
    "############################\n",
    "# IMPORTACION DE LIBRERIAS #\n",
    "############################\n",
    "\n",
    "import numpy as np\n",
    "import pandas as pd\n",
    "import warnings\n",
    "import collections\n",
    "import matplotlib.pyplot as plt \n",
    "from mpl_toolkits.mplot3d import Axes3D\n",
    "import seaborn as sns\n",
    "\n",
    "%matplotlib inline\n",
    "\n",
    "from sklearn.preprocessing import StandardScaler\n",
    "from sklearn.kernel_ridge import KernelRidge\n",
    "from sklearn.metrics import mean_absolute_error, make_scorer\n",
    "from sklearn.linear_model import RidgeCV, LassoCV, Ridge, Lasso, ElasticNetCV, ElasticNet, HuberRegressor\n",
    "from sklearn.model_selection import cross_val_score, train_test_split, GridSearchCV\n",
    "from sklearn.ensemble import RandomForestRegressor\n",
    "from sklearn.neighbors import KNeighborsRegressor\n",
    "\n"
   ]
  },
  {
   "cell_type": "code",
   "execution_count": 40,
   "metadata": {
    "collapsed": true
   },
   "outputs": [],
   "source": [
    "###############################################\n",
    "# FUNCIONES PARA PREPROCESADO Y VISUALIZACION #\n",
    "###############################################\n",
    "\n",
    "#RANGO INTERCUARTILICO\n",
    "def iqr_calculate(column):\n",
    "    description = column.describe()\n",
    "    iqr = description['75%']-description['25%']\n",
    "    return iqr\n",
    "\n",
    "#LIMITES VALORES ATIPICOS\n",
    "def outliers_limits(column):\n",
    "    description = column.describe()\n",
    "    iqr = iqr_calculate(column)\n",
    "    outliers_limits = [description['25%']-1.5*iqr,description['75%']+1.5*iqr]\n",
    "    return outliers_limits\n",
    "\n",
    "#LIMITES VALORES ATIPICOS EXTREMOS\n",
    "def extreme_outliers_limits(column):\n",
    "    description = column.describe()\n",
    "    iqr = iqr_calculate(column)\n",
    "    outliers_limits = [description['25%']-3*iqr,description['75%']+3*iqr]\n",
    "    return outliers_limits\n",
    "\n",
    "#MOSTRAR HISTOGRAMA PARA UNA COLUMNA DADA\n",
    "def mostrar_histograma(column, bins=100, label = None):\n",
    "    print('Histograma:')\n",
    "    fig, ax = plt.subplots()\n",
    "    ax.hist(column, bins)\n",
    "    ax.set_xlabel(label)\n",
    "    plt.show()\n",
    "\n",
    "#ELIMINA VALORES ATIPICOS\n",
    "def delete_outliers(data, column):\n",
    "    limits = outliers_limits(column)\n",
    "    data_without_outliers = data[column<=limits[1]]\n",
    "    data_without_outliers = data_without_outliers[column>=limits[0]]\n",
    "    return data_without_outliers\n",
    "\n",
    "#ELIMINA VALORES ATIPICOS EXTREMOS\n",
    "def delete_extreme_outliers(data, column):\n",
    "    limits = extreme_outliers_limits(column)\n",
    "    data_without_extreme_outliers = data[column<=limits[1]]\n",
    "    data_without_extreme_outliers = data_without_extreme_outliers[column>=limits[0]]\n",
    "    return data_without_extreme_outliers\n",
    "    \n",
    "#MUESTRA DIAGRAMA DE CAJAS\n",
    "def mostrar_diagrama_cajas(column):\n",
    "    print('Diagrama de cajas:')\n",
    "    plt.boxplot(column, vert=False)\n",
    "    plt.show()\n",
    "\n",
    "#MUESTRA LA MATRIZ DE CORRELACIONES\n",
    "def mostrar_matriz_correlacion(data):\n",
    "    print('Matriz de correlaciones:')\n",
    "    correlation=data.corr() #obtain the correlation matrix\n",
    "    sns.set()\n",
    "    fig, ax = plt.subplots(figsize=(16,8))\n",
    "    sns.heatmap(correlation,ax=ax)\n",
    "    plt.show()\n",
    "\n",
    "#MUESTRA MATRIZ CON VARIABLES DE FUERTE CORRELACION\n",
    "def mostrar_matriz_correlacion_fuerte(data, valor = 0.7):  \n",
    "    print('Matriz de correlaciones de variables con correlacion superior a ', valor, ':')\n",
    "    correlation=data.corr() #obtain the correlation matrix\n",
    "    aux=(abs(correlation)-np.identity(correlation.shape[0])).max() #maximum correlation of each variable\n",
    "    selected_feats=aux[aux>valor].index#take only variables whose maximum correlation is strong.\n",
    "    sns.set()\n",
    "    fig, ax = plt.subplots(figsize=(16,8))\n",
    "    sns.heatmap(correlation.loc[selected_feats,selected_feats],ax=ax,annot=True,fmt='.2f')\n",
    "    plt.show()\n",
    "    \n",
    "#MUESTRA MATRIZ DE CORRELACION CON LAS N VARIABLES MAS FUERTES\n",
    "def mostrar_matriz_correlacion_variables_fuertes(data, variables = 20):  \n",
    "    print('Matriz de correlaciones de las ', variables, ' variables mas fuertes:')\n",
    "    correlation=data.corr()\n",
    "    aux=abs(correlation['Poder_Adquisitivo']).sort_values(ascending=False) #sort variables by their correlation with SalePrice\n",
    "    selected_feats=aux[0:variables].index\n",
    "    sns.set()\n",
    "    fig, ax = plt.subplots(figsize=(16,8))\n",
    "    sns.heatmap(correlation.loc[selected_feats,selected_feats], annot=True,fmt='.2f',ax=ax)\n",
    "    plt.show()\n",
    "\n",
    "    \n",
    "#MUESTRA LA MATRIZ DE DISPERSION\n",
    "def mostrar_matriz_dispersion(column_a, column_b, label_a = None, label_b = None):\n",
    "    fig, ax = plt.subplots()\n",
    "    ax.scatter(column_a,column_b)\n",
    "    ax.set_xlabel(label_a)\n",
    "    ax.set_ylabel(label_b)\n",
    "    plt.show()\n",
    "\n",
    "#MUESTRA MATRIZ DE DISPERSION CON VARIABLES DE FUERTE CORRELACION\n",
    "def mostrar_matriz_dispersion_fuerte(data, valor = 0.7):\n",
    "    print('Matrices de dispersion de variables con correlacion superior a ', valor, ':')\n",
    "    correlation = data.corr()\n",
    "    aux=abs(correlation)-np.identity(correlation.shape[0]).max()\n",
    "    selected_feats=aux[aux>valor].index\n",
    "    sns.set(style=\"ticks\")\n",
    "    sns.pairplot(data[selected_feats])\n",
    "    plt.show()\n",
    "    \n",
    "#MUESTRA MATRIZ DE DISPERSION DE LAS N VARIABLES MAS FUERTES\n",
    "def mostrar_matriz_dispersion_variables_fuertes(data, variables = 20):\n",
    "    print('Matrices de disperion de las ', variables, ' variables mas fuertes:')\n",
    "    correlation = data.corr()\n",
    "    aux=abs(correlation['Poder_Adquisitivo']).sort_values(ascending=False)\n",
    "    selected_feats=aux[1:variables+1].index #Seleccionamos las variables mas fuertes excluyendo PA\n",
    "    sns.set(style=\"ticks\")\n",
    "    sns.pairplot(data[selected_feats])\n",
    "    plt.show()\n",
    "\n",
    "#SELECCIONA BLOQUE DE DATOS\n",
    "def mostrar_histograma_bloque(bloque = 'Imp_Cons'):\n",
    "    for col in numeric_cols:\n",
    "        if(col.find(bloque) != -1):\n",
    "           print(col)\n",
    "           mostrar_histograma(traindata_without_outliers[col], 50)\n",
    "\n",
    "#TRANSFORMACION LOGARITMICA\n",
    "def transformacion_logaritmica(column):\n",
    "    logarithmic_col = [np.log10(column)]\n",
    "    return logarithmic_col\n",
    "\n",
    "#TRANSFORMACION EXPONENCIAL\n",
    "def transformacion_exponencial(column):\n",
    "    exponential_col = [np.power(10,y) for y in column]\n",
    "    return exponential_col\n",
    "\n",
    "#CREA UNA VARIABLE RELACION\n",
    "def crear_variable_relacion(column_a, column_b):\n",
    "    new_column = [a / b for a,b in zip(column_a,column_b)]\n",
    "    return new_column\n",
    "    "
   ]
  },
  {
   "cell_type": "code",
   "execution_count": 3,
   "metadata": {},
   "outputs": [
    {
     "name": "stderr",
     "output_type": "stream",
     "text": [
      "/home/rafa/anaconda3/lib/python3.6/site-packages/IPython/core/interactiveshell.py:2698: DtypeWarning: Columns (83) have mixed types. Specify dtype option on import or set low_memory=False.\n",
      "  interactivity=interactivity, compiler=compiler, result=result)\n"
     ]
    },
    {
     "name": "stdout",
     "output_type": "stream",
     "text": [
      "Number of rows and columns of the training set:  (363834, 89)\n",
      "Number of rows and columns of the test set:  (156315, 88)\n"
     ]
    }
   ],
   "source": [
    "##################\n",
    "# CARGA DE DATOS #\n",
    "##################\n",
    "\n",
    "traindata=pd.read_csv('Dataset_Salesforce_Predictive_Modelling_TRAIN.txt')#reading the data\n",
    "testdata=pd.read_csv('Dataset_Salesforce_Predictive_Modelling_TEST.txt')\n",
    "print('Number of rows and columns of the training set: ',traindata.shape)\n",
    "print('Number of rows and columns of the test set: ',testdata.shape)"
   ]
  },
  {
   "cell_type": "code",
   "execution_count": 63,
   "metadata": {},
   "outputs": [
    {
     "name": "stdout",
     "output_type": "stream",
     "text": [
      "87 Numeric columns\n",
      "2 Nominal columns (including ID_Customer)\n",
      "------------------\n",
      "26 Categorical variables\n",
      "62 Continuous variables\n"
     ]
    }
   ],
   "source": [
    "#####################################\n",
    "# SEPARACION DE VARIABLES POR TIPOS #\n",
    "#####################################\n",
    "\n",
    "numeric_cols=traindata.select_dtypes(include=[np.number]).columns#select only numerical\n",
    "nominal_cols=traindata.select_dtypes(exclude=[np.number]).columns#select only non numerical\n",
    "categorical_cols=['Ind_Prod_01', 'Ind_Prod_02', 'Ind_Prod_03',\n",
    "       'Ind_Prod_04', 'Ind_Prod_05', 'Ind_Prod_06', 'Ind_Prod_07',\n",
    "       'Ind_Prod_08', 'Ind_Prod_09', 'Ind_Prod_10', 'Ind_Prod_11',\n",
    "       'Ind_Prod_12', 'Ind_Prod_13', 'Ind_Prod_14', 'Ind_Prod_15',\n",
    "       'Ind_Prod_16', 'Ind_Prod_17', 'Ind_Prod_18', 'Ind_Prod_19',\n",
    "       'Ind_Prod_20', 'Ind_Prod_21', 'Ind_Prod_22', 'Ind_Prod_23',\n",
    "       'Ind_Prod_24', 'Socio_Demo_01', 'Socio_Demo_02']\n",
    "continuous_cols=['Imp_Cons_01', 'Imp_Cons_02', 'Imp_Cons_03', 'Imp_Cons_04',\n",
    "       'Imp_Cons_05', 'Imp_Cons_06', 'Imp_Cons_07', 'Imp_Cons_08',\n",
    "       'Imp_Cons_09', 'Imp_Cons_10', 'Imp_Cons_11', 'Imp_Cons_12',\n",
    "       'Imp_Cons_13', 'Imp_Cons_14', 'Imp_Cons_15', 'Imp_Cons_16',\n",
    "       'Imp_Cons_17', 'Imp_Sal_01', 'Imp_Sal_02', 'Imp_Sal_03', 'Imp_Sal_04',\n",
    "       'Imp_Sal_05', 'Imp_Sal_06', 'Imp_Sal_07', 'Imp_Sal_08', 'Imp_Sal_09',\n",
    "       'Imp_Sal_10', 'Imp_Sal_11', 'Imp_Sal_12', 'Imp_Sal_13', 'Imp_Sal_14',\n",
    "       'Imp_Sal_15', 'Imp_Sal_16', 'Imp_Sal_17', 'Imp_Sal_18', 'Imp_Sal_19',\n",
    "       'Imp_Sal_20', 'Imp_Sal_21', 'Num_Oper_01', 'Num_Oper_02', 'Num_Oper_03',\n",
    "       'Num_Oper_04', 'Num_Oper_05', 'Num_Oper_06', 'Num_Oper_07',\n",
    "       'Num_Oper_08', 'Num_Oper_09', 'Num_Oper_10', 'Num_Oper_11',\n",
    "       'Num_Oper_12', 'Num_Oper_13', 'Num_Oper_14', 'Num_Oper_15',\n",
    "       'Num_Oper_16', 'Num_Oper_17', 'Num_Oper_18', 'Num_Oper_19',\n",
    "       'Num_Oper_20','Socio_Demo_03', 'Socio_Demo_04', 'Socio_Demo_05', 'Poder_Adquisitivo']\n",
    "\n",
    "print(numeric_cols.shape[0],'Numeric columns') \n",
    "print(nominal_cols.shape[0],'Nominal columns (including ID_Customer)') \n",
    "print('------------------')\n",
    "print(len(categorical_cols), 'Categorical variables')\n",
    "print(len(continuous_cols), 'Continuous variables')"
   ]
  },
  {
   "cell_type": "code",
   "execution_count": 5,
   "metadata": {},
   "outputs": [
    {
     "name": "stderr",
     "output_type": "stream",
     "text": [
      "/home/rafa/anaconda3/lib/python3.6/site-packages/ipykernel_launcher.py:37: UserWarning: Boolean Series key will be reindexed to match DataFrame index.\n",
      "/home/rafa/anaconda3/lib/python3.6/site-packages/ipykernel_launcher.py:44: UserWarning: Boolean Series key will be reindexed to match DataFrame index.\n"
     ]
    }
   ],
   "source": [
    "#########################\n",
    "# GENERACION DE SUBSETS #\n",
    "#########################\n",
    "\n",
    "traindata_without_outliers = delete_outliers(traindata, traindata['Poder_Adquisitivo'])\n",
    "traindata_without_extreme_outliers = delete_extreme_outliers(traindata, traindata['Poder_Adquisitivo'])\n",
    "    "
   ]
  },
  {
   "cell_type": "code",
   "execution_count": 6,
   "metadata": {},
   "outputs": [
    {
     "name": "stdout",
     "output_type": "stream",
     "text": [
      "Histograma:\n"
     ]
    },
    {
     "data": {
      "image/png": "[encoded data removed]",
      "text/plain": [
       "<matplotlib.figure.Figure at 0x7efdb44756a0>"
      ]
     },
     "metadata": {},
     "output_type": "display_data"
    },
    {
     "name": "stdout",
     "output_type": "stream",
     "text": [
      "Histograma:\n"
     ]
    },
    {
     "data": {
      "image/png": "[encoded data removed]",
      "text/plain": [
       "<matplotlib.figure.Figure at 0x7efdb4463198>"
      ]
     },
     "metadata": {},
     "output_type": "display_data"
    },
    {
     "name": "stdout",
     "output_type": "stream",
     "text": [
      "Histograma:\n"
     ]
    },
    {
     "data": {
      "image/png": "[encoded data removed]",
      "text/plain": [
       "<matplotlib.figure.Figure at 0x7efdb3ad3ac8>"
      ]
     },
     "metadata": {},
     "output_type": "display_data"
    },
    {
     "name": "stdout",
     "output_type": "stream",
     "text": [
      "Histograma:\n"
     ]
    },
    {
     "data": {
      "image/png": "[encoded data removed]",
      "text/plain": [
       "<matplotlib.figure.Figure at 0x7efdb435ee10>"
      ]
     },
     "metadata": {},
     "output_type": "display_data"
    }
   ],
   "source": [
    "###################################\n",
    "# ESTUDIO DE LA VARIABLE OBJETIVO #\n",
    "###################################\n",
    "var_objetivo = traindata['Poder_Adquisitivo']\n",
    "var_objetivo_sin_outliers = traindata_without_outliers['Poder_Adquisitivo']\n",
    "var_objetivo_sin_extreme_outliers = traindata_without_extreme_outliers['Poder_Adquisitivo']\n",
    "\n",
    "#HISTOGRAMA ORIGINAL DEL PODER ADQUISITO\n",
    "#Se aprecian outliers\n",
    "mostrar_histograma(var_objetivo)\n",
    "\n",
    "#HISTOGRAMA DEL PODER ADQUISITIVO ELIMINANDO SOLO EXTREME OUTLIERS\n",
    "mostrar_histograma(var_objetivo_sin_extreme_outliers)\n",
    "\n",
    "#HISTOGRAMA DEL PODER ADQUISITIVO ELIMINANDO OUTLIERS\n",
    "mostrar_histograma(var_objetivo_sin_outliers)\n",
    "\n",
    "#Normalizacion de la variable objetivo\n",
    "var_objetivo_normalizada = transformacion_logaritmica(var_objetivo_sin_outliers)\n",
    "mostrar_histograma(var_objetivo_normalizada)\n",
    "\n",
    "#Desnormalizacion de la variable objetivo\n",
    "#var_objetivo_desnormalizada = transformacion_exponencial(var_objetivo_normalizada)\n",
    "#mostrar_histograma(var_objetivo_desnormalizada)"
   ]
  },
  {
   "cell_type": "code",
   "execution_count": 7,
   "metadata": {},
   "outputs": [
    {
     "name": "stdout",
     "output_type": "stream",
     "text": [
      "Valores mas repetidos:\n",
      "{8865.2: 3038, 5112.0: 3231, 9343.33: 7203, 5123.39: 1584, 5650.47: 2551, 11529.2: 1864, 5163.24: 2924}\n"
     ]
    }
   ],
   "source": [
    "#############################################\n",
    "# VALORES DEL PODER ADQUISITO MAS REPETIDOS #\n",
    "#############################################\n",
    "\n",
    "a = np.array(var_objetivo)\n",
    "x = collections.Counter(a)\n",
    "\n",
    "d = dict((k, v) for k, v in x.items() if v >= 1000)\n",
    "\n",
    "print ('Valores mas repetidos:')\n",
    "print (d)\n"
   ]
  },
  {
   "cell_type": "code",
   "execution_count": 8,
   "metadata": {
    "collapsed": true
   },
   "outputs": [],
   "source": [
    "########################################\n",
    "# HISTOGRAMAS POR BLOQUES DE VARIABLES #\n",
    "########################################\n",
    "\n",
    "histogramas_a_visualizar = [0, 0, 0 ,0, 0]\n",
    "\n",
    "if (histogramas_a_visualizar[0]):\n",
    "    mostrar_histograma_bloque('Imp_Cons')\n",
    "    \n",
    "if (histogramas_a_visualizar[1]):\n",
    "    mostrar_histograma_bloque('Imp_Sal')\n",
    "    \n",
    "if (histogramas_a_visualizar[2]):   \n",
    "    mostrar_histograma_bloque('Ind_Prod')\n",
    "    \n",
    "if (histogramas_a_visualizar[3]):   \n",
    "    mostrar_histograma_bloque('Num_Oper')\n",
    "                              \n",
    "if (histogramas_a_visualizar[4]):                              \n",
    "    mostrar_histograma_bloque('Socio_Demo')"
   ]
  },
  {
   "cell_type": "code",
   "execution_count": 45,
   "metadata": {},
   "outputs": [],
   "source": [
    "##########################\n",
    "# VISUALIZACION DE DATOS #\n",
    "##########################\n",
    "\n",
    "# CONFIGURACION DE DATOS A VISUALIZAR\n",
    "visualizar_rangos = 0\n",
    "visualizar_histogramas = 0\n",
    "visualizar_diagramas_cajas = 0\n",
    "visualizar_matrices_correlacion = 0\n",
    "visualizar_matrices_dispersion = 0\n",
    "\n",
    "    \n",
    "if (visualizar_rangos == 1):\n",
    "    ###################\n",
    "    # RANGOS OUTLIERS #\n",
    "    ###################\n",
    "\n",
    "    print ('Rango intercuartilico de variable objetivo:', iqr_calculate(traindata['Poder_Adquisitivo']))\n",
    "    print ('Limites (inferior y superior) de los valores atipicos:', outliers_limits(traindata['Poder_Adquisitivo']))\n",
    "    print ('Limites (inferior y superior) de los valores extremadamente atipicos:', extreme_outliers_limits(traindata['Poder_Adquisitivo']))\n",
    "\n",
    "if (visualizar_histogramas == 1):\n",
    "    ###############\n",
    "    # HISTOGRAMAS #\n",
    "    ###############\n",
    "\n",
    "    mostrar_histograma(traindata['Poder_Adquisitivo'], 100, 'Poder_Adquisitivo Original')\n",
    "\n",
    "    mostrar_histograma(traindata_without_extreme_outliers['Poder_Adquisitivo'], 50, 'Poder_Adquisitivo')\n",
    "    mostrar_histograma(traindata_without_outliers['Poder_Adquisitivo'], 50, 'Poder_Adquisitivo')\n",
    "\n",
    "if (visualizar_diagramas_cajas == 1):\n",
    "    ######################\n",
    "    # DIAGRAMAS DE CAJAS #\n",
    "    ######################\n",
    "\n",
    "    mostrar_diagrama_cajas(traindata['Poder_Adquisitivo'])\n",
    "    mostrar_diagrama_cajas(traindata_without_extreme_outliers['Poder_Adquisitivo'])\n",
    "    mostrar_diagrama_cajas(traindata_without_outliers['Poder_Adquisitivo'])\n",
    "\n",
    "if (visualizar_matrices_correlacion == 1):\n",
    "    #############################\n",
    "    # MATRICES DE CORRELACIONES #\n",
    "    #############################\n",
    "\n",
    "    mostrar_matriz_correlacion(traindata[numeric_cols])\n",
    "\n",
    "    mostrar_matriz_correlacion_fuerte(traindata[numeric_cols], 0.8)\n",
    "    mostrar_matriz_correlacion_variables_fuertes(traindata[numeric_cols], 10)\n",
    "\n",
    "    \n",
    "if (visualizar_matrices_dispersion == 1):\n",
    "    ##########################\n",
    "    # MATRICES DE DISPERSION #\n",
    "    ##########################\n",
    "    \n",
    "    #mostrar_matriz_dispersion(traindata[numeric_cols])\n",
    "    #mostrar_matriz_dispersion_fuerte(traindata[numeric_cols], 0.8)\n",
    "    mostrar_matriz_dispersion_variables_fuertes(traindata[numeric_cols], 5)"
   ]
  },
  {
   "cell_type": "code",
   "execution_count": 52,
   "metadata": {
    "collapsed": true
   },
   "outputs": [],
   "source": [
    "############################################\n",
    "# MOSTRAR TODAS LAS MATRICES DE DISPERSION #\n",
    "############################################\n",
    "\n",
    "mostrar_todas_matrices_dispersion = 0 #Cuidado con activarlo: La ejecuion puede tardar un par de minutos\n",
    "\n",
    "if (mostrar_todas_matrices_dispersion == 1):\n",
    "\n",
    "    fig, axes = plt.subplots(nrows=31,ncols=2,figsize=(16,32),sharey=True)\n",
    "    axes=axes.flatten()\n",
    "\n",
    "    for i in range(len(axes)):\n",
    "        axes[i].scatter(traindata_without_outliers[continuous_cols[i]],var_objetivo_sin_outliers)\n",
    "        axes[i].set_xlabel('Poder_Adquisitivo')\n",
    "        axes[i].set_ylabel(continuous_cols[i])\n",
    "    plt.show()"
   ]
  },
  {
   "cell_type": "code",
   "execution_count": 65,
   "metadata": {},
   "outputs": [],
   "source": [
    "########################################################\n",
    "# ANALISIS DE VARIABLES CONTINUAS DE MAYOR CORRELACION #\n",
    "########################################################\n",
    "\n",
    "analisis_variables_continuas = 1\n",
    "\n",
    "if (analisis_variables_continuas == 1):\n",
    "\n",
    "    #OBTENEMOS MATRIZ DE CORRELACION\n",
    "    correlation=traindata[continuous_cols].corr() #Obtenemos la matriz de correlacion de las variables discretas\n",
    "    aux=abs(correlation['Poder_Adquisitivo']).sort_values(ascending=False) #Ordenamos variables por su correlacion con PA\n",
    "    selected_feats=aux[0:19].index #Seleccionamos las 19 de mayor correlacion (18 + PA)\n",
    "\n",
    "    sns.set()\n",
    "    fig, ax = plt.subplots(figsize=(16,8))\n",
    "    sns.heatmap(correlation.loc[selected_feats,selected_feats], annot=True,fmt='.2f',ax=ax)\n",
    "    plt.show()\n",
    "\n",
    "    #MOSTRAMOS DIAGRAMAS DE DISPERSION\n",
    "    selected_feats=selected_feats[1:] #Excluimos Poder Adquisitivo\n",
    "\n",
    "    fig, axes = plt.subplots(nrows=6,ncols=3,figsize=(16,32),sharey=True)\n",
    "    axes=axes.flatten()\n",
    "    for i in range(len(axes)):\n",
    "        axes[i].scatter(traindata_without_outliers[continuous_cols[i]], var_objetivo_sin_outliers)\n",
    "        axes[i].set_xlabel('Poder_Adquisitivo')\n",
    "        axes[i].set_ylabel(continuous_cols[i])\n",
    "    plt.show()\n"
   ]
  },
  {
   "cell_type": "code",
   "execution_count": 71,
   "metadata": {
    "scrolled": true
   },
   "outputs": [],
   "source": [
    "#####################################\n",
    "# ANALISIS DE VARIABLES CATEGORICAS #\n",
    "#####################################\n",
    "\n",
    "analisis_variables_categoricas = 1\n",
    "\n",
    "if (analisis_variables_categoricas == 1):\n",
    "    \n",
    "    visualizar_stripplots = 1\n",
    "    visualizar_boxplots = 1\n",
    "    \n",
    "    ##############\n",
    "    # STRIPPLOTS #\n",
    "    ##############\n",
    "    if (visualizar_stripplots == 1):\n",
    "        selected_nominal_feats = np.random.choice(categorical_cols,18,replace=False)\n",
    "        fig, axes = plt.subplots(nrows=6,ncols=3,figsize=(16,32),sharey=True)\n",
    "        axes=axes.flatten()\n",
    "        for i in range(len(axes)):\n",
    "            sns.set()\n",
    "            sns.stripplot(x=selected_nominal_feats[i], y='Poder_Adquisitivo', data=traindata_without_outliers,ax=axes[i],jitter=True)\n",
    "            axes[i].set_xlabel(selected_nominal_feats[i])\n",
    "            axes[i].xaxis.set_tick_params(rotation=60)\n",
    "        plt.subplots_adjust(hspace = 0.5)\n",
    "        plt.show()\n",
    "    \n",
    "    ############\n",
    "    # BOXPLOTS #\n",
    "    ############\n",
    "    if (visualizar_boxplots == 1):\n",
    "        \n",
    "        for col in categorical_cols:\n",
    "\n",
    "            if (col != 'Socio_Demo_01'): #Excluimos Socio_Demo_01 debido a su gran cantidad de categorias\n",
    "                plt.figure(figsize = (12, 6))\n",
    "                sns.boxplot(x = col, y = 'Poder_Adquisitivo',  data = traindata_without_outliers)\n",
    "                xt = plt.xticks(rotation=45)"
   ]
  },
  {
   "cell_type": "code",
   "execution_count": null,
   "metadata": {
    "collapsed": true
   },
   "outputs": [],
   "source": []
  }
 ],
 "metadata": {
  "kernelspec": {
   "display_name": "Python 3",
   "language": "python",
   "name": "python3"
  },
  "language_info": {
   "codemirror_mode": {
    "name": "ipython",
    "version": 3
   },
   "file_extension": ".py",
   "mimetype": "text/x-python",
   "name": "python",
   "nbconvert_exporter": "python",
   "pygments_lexer": "ipython3",
   "version": "3.6.3"
  }
 },
 "nbformat": 4,
 "nbformat_minor": 2
}
