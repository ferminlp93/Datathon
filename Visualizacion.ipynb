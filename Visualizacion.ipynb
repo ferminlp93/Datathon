{
 "cells": [
  {
   "cell_type": "code",
   "execution_count": 2,
   "metadata": {
    "collapsed": true
   },
   "outputs": [],
   "source": [
    "############################\n",
    "# IMPORTACION DE LIBRERIAS #\n",
    "############################\n",
    "\n",
    "import numpy as np\n",
    "import pandas as pd\n",
    "import warnings\n",
    "import matplotlib.pyplot as plt \n",
    "import seaborn as sns\n",
    "\n",
    "%matplotlib inline\n",
    "\n",
    "#warnings.filterwarnings('ignore')\n",
    "\n",
    "from sklearn.preprocessing import StandardScaler\n",
    "from sklearn.kernel_ridge import KernelRidge\n",
    "from sklearn.metrics import mean_absolute_error, make_scorer\n",
    "from sklearn.linear_model import RidgeCV, LassoCV, Ridge, Lasso, ElasticNetCV, ElasticNet, HuberRegressor\n",
    "from sklearn.model_selection import cross_val_score, train_test_split, GridSearchCV\n",
    "from sklearn.ensemble import RandomForestRegressor\n",
    "from sklearn.neighbors import KNeighborsRegressor\n"
   ]
  },
  {
   "cell_type": "code",
   "execution_count": 3,
   "metadata": {},
   "outputs": [
    {
     "name": "stderr",
     "output_type": "stream",
     "text": [
      "/home/rafa/anaconda3/lib/python3.6/site-packages/IPython/core/interactiveshell.py:2698: DtypeWarning: Columns (83) have mixed types. Specify dtype option on import or set low_memory=False.\n",
      "  interactivity=interactivity, compiler=compiler, result=result)\n"
     ]
    },
    {
     "name": "stdout",
     "output_type": "stream",
     "text": [
      "Number of rows and columns of the training set:  (363834, 89)\n",
      "Number of rows and columns of the test set:  (156315, 88)\n"
     ]
    }
   ],
   "source": [
    "##################\n",
    "# CARGA DE DATOS #\n",
    "##################\n",
    "\n",
    "traindata=pd.read_csv('Dataset_Salesforce_Predictive_Modelling_TRAIN.txt')#reading the data\n",
    "testdata=pd.read_csv('Dataset_Salesforce_Predictive_Modelling_TEST.txt')\n",
    "print('Number of rows and columns of the training set: ',traindata.shape)\n",
    "print('Number of rows and columns of the test set: ',testdata.shape)"
   ]
  },
  {
   "cell_type": "code",
   "execution_count": 4,
   "metadata": {},
   "outputs": [
    {
     "name": "stdout",
     "output_type": "stream",
     "text": [
      "87 numeric columns\n",
      "2 nominal columns\n"
     ]
    }
   ],
   "source": [
    "#####################################\n",
    "# SEPARACION DE VARIABLES POR TIPOS #\n",
    "#####################################\n",
    "\n",
    "numeric_cols=traindata.select_dtypes(include=[np.number]).columns#select only numerical\n",
    "nominal_cols=traindata.select_dtypes(exclude=[np.number]).columns#select only non numerical\n",
    "print(numeric_cols.shape[0],'numeric columns') #: ',numeric_cols)\n",
    "print(nominal_cols.shape[0],'nominal columns') #: ',nominal_cols)"
   ]
  },
  {
   "cell_type": "code",
   "execution_count": 30,
   "metadata": {
    "collapsed": true
   },
   "outputs": [],
   "source": [
    "###############################################\n",
    "# FUNCIONES PARA PREPROCESADO Y VISUALIZACION #\n",
    "###############################################\n",
    "\n",
    "#RANGO INTERCUARTILICO\n",
    "def iqr_calculate(column):\n",
    "    description = column.describe()\n",
    "    iqr = description['75%']-description['25%']\n",
    "    return iqr\n",
    "\n",
    "#LIMITES VALORES ATIPICOS\n",
    "def outliers_limits(column):\n",
    "    description = column.describe()\n",
    "    iqr = iqr_calculate(column)\n",
    "    outliers_limits = [description['25%']-1.5*iqr,description['75%']+1.5*iqr]\n",
    "    return outliers_limits\n",
    "\n",
    "#LIMITES VALORES ATIPICOS EXTREMOS\n",
    "def extreme_outliers_limits(column):\n",
    "    description = column.describe()\n",
    "    iqr = iqr_calculate(column)\n",
    "    outliers_limits = [description['25%']-3*iqr,description['75%']+3*iqr]\n",
    "    return outliers_limits\n",
    "\n",
    "#MOSTRAR HISTOGRAMA PARA UNA COLUMNA DADA\n",
    "def mostrar_histograma(column, bins=100, label = None):\n",
    "    print('Histograma:')\n",
    "    fig, ax = plt.subplots()\n",
    "    ax.hist(column, bins)\n",
    "    ax.set_xlabel(label)\n",
    "    plt.show()\n",
    "\n",
    "#ELIMINA VALORES ATIPICOS\n",
    "def delete_outliers(data, column):\n",
    "    limits = outliers_limits(column)\n",
    "    data_without_outliers = data[column<=limits[1]]\n",
    "    data_without_outliers = data_without_outliers[column>=limits[0]]\n",
    "    return data_without_outliers\n",
    "\n",
    "#ELIMINA VALORES ATIPICOS EXTREMOS\n",
    "def delete_extreme_outliers(data, column):\n",
    "    limits = extreme_outliers_limits(column)\n",
    "    data_without_extreme_outliers = data[column<=limits[1]]\n",
    "    data_without_extreme_outliers = data_without_extreme_outliers[column>=limits[0]]\n",
    "    return data_without_extreme_outliers\n",
    "    \n",
    "#MUESTRA DIAGRAMA DE CAJAS\n",
    "def mostrar_diagrama_cajas(column):\n",
    "    print('Diagrama de cajas:')\n",
    "    plt.boxplot(column, vert=False)\n",
    "    plt.show()\n",
    "\n",
    "#MUESTRA LA MATRIZ DE CORRELACIONES\n",
    "def mostrar_matriz_correlacion(data):\n",
    "    print('Matriz de correlaciones:')\n",
    "    correlation=data.corr() #obtain the correlation matrix\n",
    "    sns.set()\n",
    "    fig, ax = plt.subplots(figsize=(16,8))\n",
    "    sns.heatmap(correlation,ax=ax)\n",
    "    plt.show()\n",
    "\n",
    "#MUESTRA MATRIZ CON VARIABLES DE FUERTE CORRELACION\n",
    "def mostrar_matriz_correlacion_fuerte(data, valor = 0.7):  \n",
    "    print('Matriz de correlaciones de variables con correlacion superior a ', valor, ':')\n",
    "    correlation=data.corr() #obtain the correlation matrix\n",
    "    aux=(abs(correlation)-np.identity(correlation.shape[0])).max() #maximum correlation of each variable\n",
    "    selected_feats=aux[aux>valor].index#take only variables whose maximum correlation is strong.\n",
    "    sns.set()\n",
    "    fig, ax = plt.subplots(figsize=(16,8))\n",
    "    sns.heatmap(correlation.loc[selected_feats,selected_feats],ax=ax,annot=True,fmt='.2f')\n",
    "    plt.show()\n",
    "    \n",
    "#MUESTRA MATRIZ DE CORRELACION CON LAS N VARIABLES MAS FUERTES\n",
    "def mostrar_matriz_correlacion_variables_fuertes(data, variables = 20):  \n",
    "    print('Matriz de correlaciones de las ', variables, ' variables mas fuertes:')\n",
    "    correlation=data.corr()\n",
    "    aux=abs(correlation['Poder_Adquisitivo']).sort_values(ascending=False) #sort variables by their correlation with SalePrice\n",
    "    selected_feats=aux[0:variables].index\n",
    "    sns.set()\n",
    "    fig, ax = plt.subplots(figsize=(16,8))\n",
    "    sns.heatmap(correlation.loc[selected_feats,selected_feats], annot=True,fmt='.2f',ax=ax)\n",
    "    plt.show()\n",
    "\n",
    "    \n",
    "#MUESTRA LA MATRIZ DE DISPERSION\n",
    "def mostrar_matriz_dispersion(data):\n",
    "    print('Matrices de dispersion:')\n",
    "    correlation=data.corr() #obtain the correlation matrix\n",
    "    sns.set(style=\"ticks\")\n",
    "    sns.pairplot(correlation)\n",
    "    plt.show()\n",
    "    \n",
    "#MUESTRA MATRIZ DE DISPERSION CON VARIABLES DE FUERTE CORRELACION\n",
    "def mostrar_matriz_dispersion_variables_fuertes(data, valor = 0.7):\n",
    "    print('Matrices de dispersion de variables con correlacion superior a ', valor, ':')\n",
    "    correlation = data.corr()\n",
    "    aux=abs(correlation)-np.identity(correlation.shape[0]).max()\n",
    "    selected_feats=aux[aux>valor].index\n",
    "    sns.set(style=\"ticks\")\n",
    "    sns.pairplot(data[selected_feats])\n",
    "    plt.show()\n",
    "    \n",
    "#MUESTRA MATRIZ DE DISPERSION DE LAS N VARIABLES MAS FUERTES\n",
    "def mostrar_matriz_dispersion_variables_fuertes(data, variables = 20):\n",
    "    print('Matrices de disperion de las ', variables, ' variables mas fuertes:')\n",
    "    correlation = data.corr()\n",
    "    aux=abs(correlation['Poder_Adquisitivo']).sort_values(ascending=False)\n",
    "    selected_feats=aux[0:variables].index\n",
    "    sns.set(style=\"ticks\")\n",
    "    sns.pairplot(data[selected_feats])\n",
    "    plt.show()\n",
    "\n",
    "#SELECCIONA BLOQUE DE DATOS\n",
    "def mostrar_histograma_bloque(bloque = 'Imp_Cons'):\n",
    "    for col in numeric_cols:\n",
    "        if(col.find(bloque) != -1):\n",
    "           print(col)\n",
    "           mostrar_histograma(traindata_without_outliers[col], 50)\n",
    "            \n",
    "#APLICA TRANSFORMACION LOGARITMICA\n",
    "def transformacion_logaritmica(column):\n",
    "    logarithmic_col = [np.log10(column)]\n",
    "    return logarithmic_col\n",
    "\n",
    "#APLICA TRANSFORMACION EXPONENCIAL\n",
    "def transformacion_exponencial(column):\n",
    "    exponential_col = [np.power(10, y) for y in transformada]\n",
    "    return exponential_col"
   ]
  },
  {
   "cell_type": "code",
   "execution_count": 6,
   "metadata": {},
   "outputs": [
    {
     "name": "stderr",
     "output_type": "stream",
     "text": [
      "/home/rafa/anaconda3/lib/python3.6/site-packages/ipykernel_launcher.py:37: UserWarning: Boolean Series key will be reindexed to match DataFrame index.\n",
      "/home/rafa/anaconda3/lib/python3.6/site-packages/ipykernel_launcher.py:44: UserWarning: Boolean Series key will be reindexed to match DataFrame index.\n"
     ]
    }
   ],
   "source": [
    "##########################\n",
    "# VISUALIZACION DE DATOS #\n",
    "##########################\n",
    "\n",
    "# CONFIGURACION DE DATOS A VISUALIZAR\n",
    "visualizar_rangos = 0\n",
    "visualizar_histogramas = 0\n",
    "visualizar_diagramas_cajas = 0\n",
    "visualizar_matrices_correlacion = 0\n",
    "visualizar_matrices_dispersion = 0\n",
    "\n",
    "\n",
    "# GENERACION DE DISTINTOS DATASETS\n",
    "traindata_without_outliers = delete_outliers(traindata, traindata['Poder_Adquisitivo'])\n",
    "traindata_without_extreme_outliers = delete_extreme_outliers(traindata, traindata['Poder_Adquisitivo'])\n",
    "    \n",
    "    \n",
    "if (visualizar_rangos == 1):\n",
    "    ###################\n",
    "    # RANGOS OUTLIERS #\n",
    "    ###################\n",
    "\n",
    "    print ('Rango intercuartilico de variable objetivo:', iqr_calculate(traindata['Poder_Adquisitivo']))\n",
    "    print ('Limites (inferior y superior) de los valores atipicos:', outliers_limits(traindata['Poder_Adquisitivo']))\n",
    "    print ('Limites (inferior y superior) de los valores extremadamente atipicos:', extreme_outliers_limits(traindata['Poder_Adquisitivo']))\n",
    "\n",
    "if (visualizar_histogramas == 1):\n",
    "    ###############\n",
    "    # HISTOGRAMAS #\n",
    "    ###############\n",
    "\n",
    "    mostrar_histograma(traindata['Poder_Adquisitivo'], 100, 'Poder_Adquisitivo Original')\n",
    "\n",
    "    mostrar_histograma(traindata_without_extreme_outliers['Poder_Adquisitivo'], 50, 'Poder_Adquisitivo')\n",
    "    mostrar_histograma(traindata_without_outliers['Poder_Adquisitivo'], 50, 'Poder_Adquisitivo')\n",
    "\n",
    "if (visualizar_diagramas_cajas == 1):\n",
    "    ######################\n",
    "    # DIAGRAMAS DE CAJAS #\n",
    "    ######################\n",
    "\n",
    "    mostrar_diagrama_cajas(traindata['Poder_Adquisitivo'])\n",
    "    mostrar_diagrama_cajas(traindata_without_extreme_outliers['Poder_Adquisitivo'])\n",
    "    mostrar_diagrama_cajas(traindata_without_outliers['Poder_Adquisitivo'])\n",
    "\n",
    "if (visualizar_matrices_correlacion == 1):\n",
    "    #############################\n",
    "    # MATRICES DE CORRELACIONES #\n",
    "    #############################\n",
    "\n",
    "    mostrar_matriz_correlacion(traindata[numeric_cols])\n",
    "\n",
    "    mostrar_matriz_correlacion_fuerte(traindata[numeric_cols], 0.8)\n",
    "    mostrar_matriz_correlacion_variables_fuertes(traindata[numeric_cols], 10)\n",
    "\n",
    "    \n",
    "if (visualizar_matrices_dispersion == 1):\n",
    "    ##########################\n",
    "    # MATRICES DE DISPERSION #\n",
    "    ##########################\n",
    "    \n",
    "    #mostrar_matriz_dispersion(traindata[numeric_cols])\n",
    "    #mostrar_matriz_dispersion_fuerte(traindata[numeric_cols], 0.8)\n",
    "    mostrar_matriz_dispersion_variables_fuertes(traindata[numeric_cols], 5)"
   ]
  },
  {
   "cell_type": "code",
   "execution_count": 7,
   "metadata": {},
   "outputs": [],
   "source": [
    "########################################\n",
    "# HISTOGRAMAS POR BLOQUES DE VARIABLES #\n",
    "########################################\n",
    "\n",
    "histogramas_a_visualizar = [0, 0, 0 ,0, 0]\n",
    "\n",
    "if (histogramas_a_visualizar[0]):\n",
    "    mostrar_histograma_bloque('Imp_Cons')\n",
    "    \n",
    "if (histogramas_a_visualizar[1]):\n",
    "    mostrar_histograma_bloque('Imp_Sal')\n",
    "    \n",
    "if (histogramas_a_visualizar[2]):   \n",
    "    mostrar_histograma_bloque('Ind_Prod')\n",
    "    \n",
    "if (histogramas_a_visualizar[3]):   \n",
    "    mostrar_histograma_bloque('Num_Oper')\n",
    "                              \n",
    "if (histogramas_a_visualizar[4]):                              \n",
    "    mostrar_histograma_bloque('Socio_Demo')"
   ]
  },
  {
   "cell_type": "code",
   "execution_count": 31,
   "metadata": {},
   "outputs": [
    {
     "name": "stdout",
     "output_type": "stream",
     "text": [
      "Histograma:\n"
     ]
    },
    {
     "data": {
      "image/png": "[encoded data removed]",
      "text/plain": [
       "<matplotlib.figure.Figure at 0x7fef07480eb8>"
      ]
     },
     "metadata": {},
     "output_type": "display_data"
    },
    {
     "name": "stdout",
     "output_type": "stream",
     "text": [
      "Histograma:\n"
     ]
    },
    {
     "data": {
      "image/png": "[encoded data removed]",
      "text/plain": [
       "<matplotlib.figure.Figure at 0x7fef067ff470>"
      ]
     },
     "metadata": {},
     "output_type": "display_data"
    },
    {
     "name": "stdout",
     "output_type": "stream",
     "text": [
      "Histograma:\n"
     ]
    },
    {
     "data": {
      "image/png": "[encoded data removed]",
      "text/plain": [
       "<matplotlib.figure.Figure at 0x7fef06a625c0>"
      ]
     },
     "metadata": {},
     "output_type": "display_data"
    }
   ],
   "source": [
    "##########################################\n",
    "# TRANSFORMACION DE LA VARIABLE OBJETIVO #\n",
    "##########################################\n",
    "\n",
    "var_objetivo = traindata_without_outliers['Poder_Adquisitivo']\n",
    "\n",
    "# Histograma de la variable objetivo sin normalizar\n",
    "mostrar_histograma(var_objetivo)\n",
    "\n",
    "#Histograma de la variable objetivo normalizada\n",
    "var_objetivo_normalizada = transformacion_logaritmica(var_objetivo)\n",
    "mostrar_histograma(var_objetivo_normalizada)\n",
    "\n",
    "#Destransformacion de la variable objetivo\n",
    "var_objetivo_desnormalizada = transformacion_exponencial(var_objetivo_normalizada)\n",
    "mostrar_histograma(var_objetivo_desnormalizada)"
   ]
  },
  {
   "cell_type": "code",
   "execution_count": null,
   "metadata": {
    "collapsed": true
   },
   "outputs": [],
   "source": []
  }
 ],
 "metadata": {
  "kernelspec": {
   "display_name": "Python 3",
   "language": "python",
   "name": "python3"
  },
  "language_info": {
   "codemirror_mode": {
    "name": "ipython",
    "version": 3
   },
   "file_extension": ".py",
   "mimetype": "text/x-python",
   "name": "python",
   "nbconvert_exporter": "python",
   "pygments_lexer": "ipython3",
   "version": "3.6.3"
  }
 },
 "nbformat": 4,
 "nbformat_minor": 2
}
